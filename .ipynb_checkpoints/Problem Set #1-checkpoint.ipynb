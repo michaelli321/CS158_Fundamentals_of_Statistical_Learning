{
 "cells": [
  {
   "cell_type": "markdown",
   "metadata": {},
   "source": [
    "## IDS/ACM/CS 158: Fundamentals of Statistical Learning\n",
    "### PS1\n",
    "> Name: Li, Michael\n",
    " \n",
    "> Email address: mlli@caltech.edu"
   ]
  },
  {
   "cell_type": "markdown",
   "metadata": {},
   "source": [
    "## Problem 1 - K-NN and Linear Regression for Regression"
   ]
  },
  {
   "cell_type": "markdown",
   "metadata": {},
   "source": [
    "* Helper functions "
   ]
  },
  {
   "cell_type": "code",
   "execution_count": 66,
   "metadata": {},
   "outputs": [],
   "source": [
    "import numpy as np\n",
    "from scipy.spatial.distance import euclidean\n",
    "\n",
    "def load_data(filename):\n",
    "    \"\"\"\n",
    "    filename - filename to open and load\n",
    "    \n",
    "    Returns file as matrix of pairs of observations\n",
    "    (x_i, y_i) where x_i is a p-vector\n",
    "    \"\"\"\n",
    "    res = np.loadtxt(open(filename, \"rb\"), delimiter=\",\", skiprows=1)\n",
    "    res = [(x[:-1], x[-1]) for x in res]\n",
    "    \n",
    "    return res\n",
    "\n",
    "def l2_loss(y, y_pred):\n",
    "    \"\"\"\n",
    "    y - actual value\n",
    "    y_pred - regression value\n",
    "    \n",
    "    Returns L2 loss\n",
    "    \"\"\"\n",
    "    return (y - y_pred)**2"
   ]
  },
  {
   "cell_type": "markdown",
   "metadata": {},
   "source": [
    "* <b>Part A</b>"
   ]
  },
  {
   "cell_type": "code",
   "execution_count": 69,
   "metadata": {},
   "outputs": [],
   "source": [
    "def find_nearest_neighbors(K, D, X):\n",
    "    \"\"\"\n",
    "    K - number of neighbors\n",
    "    D - training data consisting of pairs of p-dimensional vectors and outputs\n",
    "    X - a column p-vector that represents a new input\n",
    "    \n",
    "    Returns a list of length K of the K closest vectors to X\n",
    "    \"\"\"\n",
    "\n",
    "    D = sorted(D, key=lambda x: euclidean(X, x[0]))\n",
    "    return np.array(D[:K])\n",
    "    \n",
    "def knn_regression(K, D, X):\n",
    "    \"\"\"\n",
    "    K - number of neighbors\n",
    "    D - training data consisting of pairs of p-dimensional vectors and outputs\n",
    "    X - a column p-vector that represents a new input\n",
    "    \n",
    "    Returns the K-NN regression of X using D\n",
    "    \"\"\"\n",
    "    \n",
    "    k_nearest_neighbors = find_nearest_neighbors(K, D, X)\n",
    "    return np.mean(k_nearest_neighbors[:,1])\n"
   ]
  },
  {
   "cell_type": "markdown",
   "metadata": {},
   "source": [
    "* <b>Part B</b>"
   ]
  },
  {
   "cell_type": "code",
   "execution_count": 3,
   "metadata": {},
   "outputs": [],
   "source": [
    "def linreg_regression(D, X):\n",
    "    \"\"\"\n",
    "    D - training data consisting of pairs of p-dimensional vectors and output\n",
    "    X - a column p-vector that represents a new input\n",
    "    \n",
    "    Returns the linear regression of X using D\n",
    "    \"\"\"\n",
    "    \n",
    "    D = np.array(D)\n",
    "    x = D[:,0]\n",
    "    y = D[:,1]\n",
    "    \n",
    "    # add bias term to training data\n",
    "    x = np.array([[1]+arr.tolist() for arr in x])\n",
    "    \n",
    "    # calculate beta\n",
    "    intermediate = np.matmul(x.transpose(), x)\n",
    "    inverse_intermediate = np.linalg.inv(np.array(intermediate))\n",
    "    pseudo_x = np.matmul(inverse_intermediate, x.transpose())\n",
    "    \n",
    "    beta = np.matmul(pseudo_x, y)\n",
    "    \n",
    "    # apply beta weight to X\n",
    "    return np.matmul([1]+X.tolist(), beta)"
   ]
  },
  {
   "cell_type": "markdown",
   "metadata": {},
   "source": [
    "* <b>Part C</b>"
   ]
  },
  {
   "cell_type": "code",
   "execution_count": 4,
   "metadata": {},
   "outputs": [],
   "source": [
    "def knn_vs_linear_reg(train_filename, test_filename, dataset):\n",
    "    \"\"\"\n",
    "    train_filename - filename of training data to load\n",
    "    test_filename - filename of test data to load\n",
    "    dataset - number of dataset\n",
    "    \n",
    "    Returns L2 Error and Results for KNN vs LinReg\n",
    "    \"\"\"\n",
    "    training_data = load_data(train_filename)\n",
    "    test_data = load_data(test_filename)\n",
    "    \n",
    "    K = 5\n",
    "    Err_knn = []\n",
    "    Err_lr = []\n",
    "    \n",
    "    # loop through test data and apply regression\n",
    "    for i in range(len(test_data)):\n",
    "        knn_reg = knn_regression(K, training_data, test_data[i][0])\n",
    "        lr_reg = linreg_regression(training_data, test_data[i][0])\n",
    "        \n",
    "        # calculate error\n",
    "        Err_knn.append(l2_loss(test_data[i][1], knn_reg))\n",
    "        Err_lr.append(l2_loss(test_data[i][1], lr_reg))\n",
    "\n",
    "    Err_knn = np.mean(Err_knn)\n",
    "    Err_lr = np.mean(Err_lr)\n",
    "    R = Err_knn / Err_lr  \n",
    "\n",
    "    print('For dataset {}\\n Err_knn is {:1.4f} \\n Err_lr is {:1.4f} \\n R = {:1.4f}'.format(dataset, Err_knn, Err_lr, R))\n",
    "    if R > 1:\n",
    "        print(' Linear regression is better.')\n",
    "    else:\n",
    "        print(' k-NN is better.')"
   ]
  },
  {
   "cell_type": "code",
   "execution_count": 70,
   "metadata": {},
   "outputs": [
    {
     "name": "stdout",
     "output_type": "stream",
     "text": [
      "For dataset 1\n",
      " Err_knn is 0.3416 \n",
      " Err_lr is 0.0427 \n",
      " R = 8.0073\n",
      " Linear regression is better.\n",
      "\n",
      "For dataset 2\n",
      " Err_knn is 0.4928 \n",
      " Err_lr is 2.3068 \n",
      " R = 0.2136\n",
      " k-NN is better.\n"
     ]
    }
   ],
   "source": [
    "knn_vs_linear_reg('dataset1_train.csv', 'dataset1_test.csv', 1)\n",
    "print()\n",
    "knn_vs_linear_reg('dataset2_train.csv', 'dataset2_test.csv', 2)"
   ]
  },
  {
   "cell_type": "markdown",
   "metadata": {},
   "source": [
    "## Problem 2 - The Curse of Dimensionality: Theory"
   ]
  },
  {
   "cell_type": "markdown",
   "metadata": {},
   "source": [
    "* <b>Part A</b>"
   ]
  },
  {
   "cell_type": "markdown",
   "metadata": {},
   "source": [
    "## Problem 3 - The Curse of Dimensionality: Simulation"
   ]
  },
  {
   "cell_type": "markdown",
   "metadata": {},
   "source": [
    "* Helper functions "
   ]
  },
  {
   "cell_type": "code",
   "execution_count": 6,
   "metadata": {},
   "outputs": [],
   "source": [
    "import matplotlib.pyplot as plt\n",
    "\n",
    "%matplotlib inline\n",
    "\n",
    "def generate_data(p):\n",
    "    \"\"\"\n",
    "    p - dimension of x\n",
    "    \n",
    "    Returns a dataset of pairs of observations\n",
    "    (x_i, y_i) where x_i is a p-vector \n",
    "    \"\"\"\n",
    "    data = []\n",
    "    N = 10**3\n",
    "    \n",
    "    for i in range(N):\n",
    "        x = np.random.normal(size=p)\n",
    "        y = sum(x) + np.random.normal()\n",
    "        data.append((x, y))\n",
    "        \n",
    "    return data\n",
    "\n",
    "def compute_errors(train_data, test_data):\n",
    "    \"\"\"\n",
    "    train_data - training data consisting of pairs of p-dimensional vectors and output\n",
    "    test_data - test data consisting of pairs of p-dimensional vectors and output\n",
    "    \n",
    "    Returns the L2 test errors associated with knn and linear regression\"\"\"\n",
    "    K = 5\n",
    "    Err_knn = []\n",
    "    Err_lr = []\n",
    "    \n",
    "    for i in range(len(test_data)):\n",
    "        knn_reg = knn_regression(K, train_data, test_data[i][0])\n",
    "        lr_reg = linreg_regression(train_data, test_data[i][0])\n",
    "        \n",
    "        # calculate error\n",
    "        Err_knn.append(l2_loss(test_data[i][1], knn_reg))\n",
    "        Err_lr.append(l2_loss(test_data[i][1], lr_reg))\n",
    "\n",
    "    Err_knn = np.mean(Err_knn)\n",
    "    Err_lr = np.mean(Err_lr)\n",
    "    \n",
    "    return Err_knn, Err_lr"
   ]
  },
  {
   "cell_type": "code",
   "execution_count": 7,
   "metadata": {},
   "outputs": [],
   "source": [
    "knn_errs = []\n",
    "lr_errs = []\n",
    "\n",
    "for p in range(1, 101):\n",
    "    train_data = generate_data(p)\n",
    "    test_data = generate_data(p)\n",
    "    Err_knn, Err_lr = compute_errors(train_data, test_data)\n",
    "    knn_errs.append(Err_knn)\n",
    "    lr_errs.append(Err_lr)"
   ]
  },
  {
   "cell_type": "code",
   "execution_count": 8,
   "metadata": {},
   "outputs": [
    {
     "data": {
      "image/png": "[encoded data removed]",
      "text/plain": [
       "<Figure size 720x360 with 2 Axes>"
      ]
     },
     "metadata": {
      "needs_background": "light"
     },
     "output_type": "display_data"
    }
   ],
   "source": [
    "dims = np.arange(1, 101)\n",
    "theoretical_linreg_err = [1+(1/10**3)*p for p in dims]\n",
    "plt.rcParams['figure.figsize'] = [10, 5]\n",
    "plt.subplot(121)\n",
    "plt.plot(dims, knn_errs)\n",
    "plt.xlabel('Dimension')\n",
    "plt.ylabel('Average Test Error (L2 Loss)')\n",
    "plt.title('Average Test Error vs Dimension for KNN')\n",
    "\n",
    "plt.subplot(122)\n",
    "plt.plot(dims, lr_errs, label='Simulated Loss')\n",
    "plt.plot(dims, theoretical_linreg_err, label='Theoretical Loss')\n",
    "plt.xlabel('Dimension')\n",
    "plt.ylabel('Average Test Error (L2 Loss)')\n",
    "plt.title('Average Test Error vs Dimension for Linear Regression')\n",
    "plt.legend()\n",
    "plt.show()"
   ]
  },
  {
   "cell_type": "markdown",
   "metadata": {},
   "source": [
    "## Problem 4 - K-NN and Linear Regression for Classification"
   ]
  },
  {
   "cell_type": "code",
   "execution_count": 9,
   "metadata": {},
   "outputs": [],
   "source": [
    "from collections import Counter"
   ]
  },
  {
   "cell_type": "markdown",
   "metadata": {},
   "source": [
    "* <b>Part A</b>"
   ]
  },
  {
   "cell_type": "code",
   "execution_count": 71,
   "metadata": {},
   "outputs": [],
   "source": [
    "def knn_classification(K, D, X):\n",
    "    \"\"\"\n",
    "    K - number of neighbors\n",
    "    D - training data consisting of pairs of p-dimensional vectors and outputs\n",
    "    X - a column p-vector that represents a new input\n",
    "    \n",
    "    Returns the K-NN classification of X using D\n",
    "    \"\"\"\n",
    "    \n",
    "    k_nearest_neighbors = find_nearest_neighbors(K, D, X)\n",
    "    classes = k_nearest_neighbors[:,1]\n",
    "    \n",
    "    # count the occurences of a class and choose the most common one\n",
    "    return Counter(classes).most_common()[0][0]"
   ]
  },
  {
   "cell_type": "markdown",
   "metadata": {},
   "source": [
    "* <b>Part B</b>"
   ]
  },
  {
   "cell_type": "code",
   "execution_count": 11,
   "metadata": {},
   "outputs": [],
   "source": [
    "def linreg_classification(D, X):\n",
    "    \"\"\"\n",
    "    D - training data consisting of pairs of p-dimensional vectors and output\n",
    "    X - a column p-vector that represents a new input\n",
    "    \n",
    "    Returns the linear regression classification of X using D\n",
    "    \"\"\"\n",
    "    \n",
    "    if linreg_regression(D, X) < .5:\n",
    "        return 0\n",
    "    else:\n",
    "        return 1"
   ]
  },
  {
   "cell_type": "markdown",
   "metadata": {},
   "source": [
    "* <b>Part C</b>"
   ]
  },
  {
   "cell_type": "markdown",
   "metadata": {},
   "source": [
    "I would expect linear regression classification to work better on dataset 3 since it looks mostly linearly separable with some noise. I would expect k-NN with K=1 to work better on dataset 4 since it does not appear to be linearly separable. It would be better in this case to just take the closest point in the training set since it doesn't seem like any line could split the data well."
   ]
  },
  {
   "cell_type": "code",
   "execution_count": 12,
   "metadata": {},
   "outputs": [],
   "source": [
    "def knn_vs_linear_clas(train_filename, test_filename, dataset):\n",
    "    \"\"\"\n",
    "    train_filename - filename of training data to load\n",
    "    test_filename - filename of test data to load\n",
    "    dataset - number of dataset\n",
    "    \n",
    "    Returns zero-one loss function Error and Results for KNN vs LinReg\n",
    "    \"\"\"\n",
    "    training_data = load_data(train_filename)\n",
    "    test_data = load_data(test_filename)\n",
    "    \n",
    "    K = 1\n",
    "    Err_knn = []\n",
    "    Err_lr = []\n",
    "    \n",
    "    # loop through test data and apply regression\n",
    "    for i in range(len(test_data)):\n",
    "        knn_clas = knn_classification(K, training_data, test_data[i][0])\n",
    "        lr_clas = linreg_classification(training_data, test_data[i][0])\n",
    "        \n",
    "        # calculate error\n",
    "        Err_knn.append(int(test_data[i][1] != knn_clas))\n",
    "        Err_lr.append(int(test_data[i][1] != lr_clas))\n",
    "\n",
    "    Err_knn = np.mean(Err_knn)\n",
    "    Err_lr = np.mean(Err_lr)\n",
    "    R = Err_knn / Err_lr\n",
    "\n",
    "    print('For dataset {}\\n Err_knn is {:1.4f} \\n Err_lr is {:1.4f} \\n R = {:1.4f}'.format(dataset, Err_knn, Err_lr, R))\n",
    "    if R > 1:\n",
    "        print(' Linear regression Classification is better.')\n",
    "    else:\n",
    "        print(' k-NN Classification is better.')"
   ]
  },
  {
   "cell_type": "code",
   "execution_count": 72,
   "metadata": {},
   "outputs": [
    {
     "name": "stdout",
     "output_type": "stream",
     "text": [
      "For dataset 3\n",
      " Err_knn is 0.3410 \n",
      " Err_lr is 0.2470 \n",
      " R = 1.3806\n",
      " Linear regression Classification is better.\n",
      "\n",
      "For dataset 4\n",
      " Err_knn is 0.2040 \n",
      " Err_lr is 0.2960 \n",
      " R = 0.6892\n",
      " k-NN Classification is better.\n"
     ]
    }
   ],
   "source": [
    "knn_vs_linear_clas('dataset3_train.csv', 'dataset3_test.csv', 3)\n",
    "print()\n",
    "knn_vs_linear_clas('dataset4_train.csv', 'dataset4_test.csv', 4)"
   ]
  },
  {
   "cell_type": "markdown",
   "metadata": {},
   "source": [
    "## Problem 5 - Training vs Testing Error and the Bias-Variance Trade-Off"
   ]
  },
  {
   "cell_type": "markdown",
   "metadata": {},
   "source": [
    "* <b>Part A</b>"
   ]
  },
  {
   "cell_type": "code",
   "execution_count": 36,
   "metadata": {},
   "outputs": [],
   "source": [
    "def generate_data(N):\n",
    "    \"\"\"\n",
    "    N - number of data points to generate\n",
    "    \n",
    "    Returns random data defined on the problem set\n",
    "    \"\"\"\n",
    "    data = []\n",
    "\n",
    "    for i in range(N):\n",
    "        x = np.random.normal(size=3)\n",
    "        y = np.sin(x[0]) + np.exp(x[1]) + np.log(np.abs(x[2])) + np.random.normal()\n",
    "        data.append((x, y))\n",
    "\n",
    "    return data\n",
    "\n",
    "def calc_error(k, train_data, test_data):\n",
    "    \"\"\"\n",
    "    k - number of nearest neighbors for k-nn\n",
    "    train_data - data to train on\n",
    "    data_to_approx - data calculate error on\n",
    "    \n",
    "    Returns average error using l2 squared loss\n",
    "    \"\"\"\n",
    "    train_err = []\n",
    "    test_err = []\n",
    "    \n",
    "    for i in range(len(train_data)):\n",
    "        knn_reg_train = knn_regression(k, train_data, train_data[i][0])\n",
    "        knn_reg_test = knn_regression(k, train_data, test_data[i][0])\n",
    "        \n",
    "        train_err.append(l2_loss(train_data[i][1], knn_reg_train))\n",
    "        test_err.append(l2_loss(test_data[i][1], knn_reg_test))\n",
    "        \n",
    "    return np.mean(train_err), np.mean(test_err)\n",
    "    "
   ]
  },
  {
   "cell_type": "code",
   "execution_count": 37,
   "metadata": {},
   "outputs": [],
   "source": [
    "K = N = 10**3\n",
    "train_data = generate_data(N)\n",
    "test_data = generate_data(N)\n",
    "\n",
    "k_train_err = []\n",
    "k_test_err = []\n",
    "\n",
    "for k in range(1, K+1):\n",
    "    train_err, test_err = calc_error(k, train_data, test_data)\n",
    "    k_train_err.append(train_err)\n",
    "    k_test_err.append(test_err)"
   ]
  },
  {
   "cell_type": "code",
   "execution_count": 42,
   "metadata": {},
   "outputs": [
    {
     "data": {
      "image/png": "[encoded data removed]",
      "text/plain": [
       "<Figure size 720x360 with 1 Axes>"
      ]
     },
     "metadata": {
      "needs_background": "light"
     },
     "output_type": "display_data"
    }
   ],
   "source": [
    "dims = np.arange(1, K+1)\n",
    "x = [10**3/k for k in dims]\n",
    "\n",
    "plt.plot(x, k_train_err, label='Training Error')\n",
    "plt.plot(x, k_test_err, label='Test Error')\n",
    "plt.xlabel('Flexibility (N=10**3 / k)')\n",
    "plt.ylabel('Average Error (L2 Loss)')\n",
    "plt.title('Flexiblity vs Training and Test Error')\n",
    "plt.legend()\n",
    "plt.show()"
   ]
  },
  {
   "cell_type": "markdown",
   "metadata": {},
   "source": [
    "* <b>Part B</b>"
   ]
  },
  {
   "cell_type": "code",
   "execution_count": 58,
   "metadata": {},
   "outputs": [],
   "source": [
    "def avg_l2_loss(ys, y_preds):\n",
    "    \"\"\"\n",
    "    ys - list of actual values\n",
    "    y_preds - list of predicted values\n",
    "    \n",
    "    Returns avg L2 loss between actual and predicted\n",
    "    \"\"\"\n",
    "    err = []\n",
    "    \n",
    "    for i in range(len(ys)):\n",
    "        err.append(l2_loss(ys[i], y_preds))\n",
    "        \n",
    "    return np.mean(err)"
   ]
  },
  {
   "cell_type": "code",
   "execution_count": 73,
   "metadata": {},
   "outputs": [
    {
     "ename": "KeyboardInterrupt",
     "evalue": "",
     "output_type": "error",
     "traceback": [
      "\u001b[0;31m---------------------------------------------------------------------------\u001b[0m",
      "\u001b[0;31mKeyboardInterrupt\u001b[0m                         Traceback (most recent call last)",
      "\u001b[0;32m<ipython-input-73-c26ad4924f23>\u001b[0m in \u001b[0;36m<module>\u001b[0;34m\u001b[0m\n\u001b[1;32m     15\u001b[0m \u001b[0;34m\u001b[0m\u001b[0m\n\u001b[1;32m     16\u001b[0m         \u001b[0;32mfor\u001b[0m \u001b[0mi\u001b[0m \u001b[0;32min\u001b[0m \u001b[0mrange\u001b[0m\u001b[0;34m(\u001b[0m\u001b[0mlen\u001b[0m\u001b[0;34m(\u001b[0m\u001b[0mtest_data\u001b[0m\u001b[0;34m)\u001b[0m\u001b[0;34m)\u001b[0m\u001b[0;34m:\u001b[0m\u001b[0;34m\u001b[0m\u001b[0;34m\u001b[0m\u001b[0m\n\u001b[0;32m---> 17\u001b[0;31m             \u001b[0mknn_reg\u001b[0m\u001b[0;34m.\u001b[0m\u001b[0mappend\u001b[0m\u001b[0;34m(\u001b[0m\u001b[0mknn_regression\u001b[0m\u001b[0;34m(\u001b[0m\u001b[0mk\u001b[0m\u001b[0;34m,\u001b[0m \u001b[0md\u001b[0m\u001b[0;34m,\u001b[0m \u001b[0mtest_data\u001b[0m\u001b[0;34m[\u001b[0m\u001b[0mi\u001b[0m\u001b[0;34m]\u001b[0m\u001b[0;34m[\u001b[0m\u001b[0;36m0\u001b[0m\u001b[0;34m]\u001b[0m\u001b[0;34m)\u001b[0m\u001b[0;34m)\u001b[0m\u001b[0;34m\u001b[0m\u001b[0;34m\u001b[0m\u001b[0m\n\u001b[0m\u001b[1;32m     18\u001b[0m \u001b[0;34m\u001b[0m\u001b[0m\n\u001b[1;32m     19\u001b[0m         \u001b[0merr\u001b[0m\u001b[0;34m.\u001b[0m\u001b[0mappend\u001b[0m\u001b[0;34m(\u001b[0m\u001b[0mavg_l2_loss\u001b[0m\u001b[0;34m(\u001b[0m\u001b[0mtest_data\u001b[0m\u001b[0;34m[\u001b[0m\u001b[0;34m:\u001b[0m\u001b[0;34m,\u001b[0m\u001b[0;36m1\u001b[0m\u001b[0;34m]\u001b[0m\u001b[0;34m,\u001b[0m \u001b[0mknn_reg\u001b[0m\u001b[0;34m)\u001b[0m\u001b[0;34m)\u001b[0m\u001b[0;34m\u001b[0m\u001b[0;34m\u001b[0m\u001b[0m\n",
      "\u001b[0;32m<ipython-input-69-2435363aa4e0>\u001b[0m in \u001b[0;36mknn_regression\u001b[0;34m(K, D, X)\u001b[0m\n\u001b[1;32m     20\u001b[0m     \"\"\"\n\u001b[1;32m     21\u001b[0m \u001b[0;34m\u001b[0m\u001b[0m\n\u001b[0;32m---> 22\u001b[0;31m     \u001b[0mk_nearest_neighbors\u001b[0m \u001b[0;34m=\u001b[0m \u001b[0mfind_nearest_neighbors\u001b[0m\u001b[0;34m(\u001b[0m\u001b[0mK\u001b[0m\u001b[0;34m,\u001b[0m \u001b[0mD\u001b[0m\u001b[0;34m,\u001b[0m \u001b[0mX\u001b[0m\u001b[0;34m)\u001b[0m\u001b[0;34m\u001b[0m\u001b[0;34m\u001b[0m\u001b[0m\n\u001b[0m\u001b[1;32m     23\u001b[0m     \u001b[0;32mreturn\u001b[0m \u001b[0mnp\u001b[0m\u001b[0;34m.\u001b[0m\u001b[0mmean\u001b[0m\u001b[0;34m(\u001b[0m\u001b[0mk_nearest_neighbors\u001b[0m\u001b[0;34m[\u001b[0m\u001b[0;34m:\u001b[0m\u001b[0;34m,\u001b[0m\u001b[0;36m1\u001b[0m\u001b[0;34m]\u001b[0m\u001b[0;34m)\u001b[0m\u001b[0;34m\u001b[0m\u001b[0;34m\u001b[0m\u001b[0m\n",
      "\u001b[0;32m<ipython-input-69-2435363aa4e0>\u001b[0m in \u001b[0;36mfind_nearest_neighbors\u001b[0;34m(K, D, X)\u001b[0m\n\u001b[1;32m      8\u001b[0m     \"\"\"\n\u001b[1;32m      9\u001b[0m \u001b[0;34m\u001b[0m\u001b[0m\n\u001b[0;32m---> 10\u001b[0;31m     \u001b[0mD\u001b[0m \u001b[0;34m=\u001b[0m \u001b[0msorted\u001b[0m\u001b[0;34m(\u001b[0m\u001b[0mD\u001b[0m\u001b[0;34m,\u001b[0m \u001b[0mkey\u001b[0m\u001b[0;34m=\u001b[0m\u001b[0;32mlambda\u001b[0m \u001b[0mx\u001b[0m\u001b[0;34m:\u001b[0m \u001b[0meuclidean\u001b[0m\u001b[0;34m(\u001b[0m\u001b[0mX\u001b[0m\u001b[0;34m,\u001b[0m \u001b[0mx\u001b[0m\u001b[0;34m[\u001b[0m\u001b[0;36m0\u001b[0m\u001b[0;34m]\u001b[0m\u001b[0;34m)\u001b[0m\u001b[0;34m)\u001b[0m\u001b[0;34m\u001b[0m\u001b[0;34m\u001b[0m\u001b[0m\n\u001b[0m\u001b[1;32m     11\u001b[0m     \u001b[0;32mreturn\u001b[0m \u001b[0mnp\u001b[0m\u001b[0;34m.\u001b[0m\u001b[0marray\u001b[0m\u001b[0;34m(\u001b[0m\u001b[0mD\u001b[0m\u001b[0;34m[\u001b[0m\u001b[0;34m:\u001b[0m\u001b[0mK\u001b[0m\u001b[0;34m]\u001b[0m\u001b[0;34m)\u001b[0m\u001b[0;34m\u001b[0m\u001b[0;34m\u001b[0m\u001b[0m\n\u001b[1;32m     12\u001b[0m \u001b[0;34m\u001b[0m\u001b[0m\n",
      "\u001b[0;32m<ipython-input-69-2435363aa4e0>\u001b[0m in \u001b[0;36m<lambda>\u001b[0;34m(x)\u001b[0m\n\u001b[1;32m      8\u001b[0m     \"\"\"\n\u001b[1;32m      9\u001b[0m \u001b[0;34m\u001b[0m\u001b[0m\n\u001b[0;32m---> 10\u001b[0;31m     \u001b[0mD\u001b[0m \u001b[0;34m=\u001b[0m \u001b[0msorted\u001b[0m\u001b[0;34m(\u001b[0m\u001b[0mD\u001b[0m\u001b[0;34m,\u001b[0m \u001b[0mkey\u001b[0m\u001b[0;34m=\u001b[0m\u001b[0;32mlambda\u001b[0m \u001b[0mx\u001b[0m\u001b[0;34m:\u001b[0m \u001b[0meuclidean\u001b[0m\u001b[0;34m(\u001b[0m\u001b[0mX\u001b[0m\u001b[0;34m,\u001b[0m \u001b[0mx\u001b[0m\u001b[0;34m[\u001b[0m\u001b[0;36m0\u001b[0m\u001b[0;34m]\u001b[0m\u001b[0;34m)\u001b[0m\u001b[0;34m)\u001b[0m\u001b[0;34m\u001b[0m\u001b[0;34m\u001b[0m\u001b[0m\n\u001b[0m\u001b[1;32m     11\u001b[0m     \u001b[0;32mreturn\u001b[0m \u001b[0mnp\u001b[0m\u001b[0;34m.\u001b[0m\u001b[0marray\u001b[0m\u001b[0;34m(\u001b[0m\u001b[0mD\u001b[0m\u001b[0;34m[\u001b[0m\u001b[0;34m:\u001b[0m\u001b[0mK\u001b[0m\u001b[0;34m]\u001b[0m\u001b[0;34m)\u001b[0m\u001b[0;34m\u001b[0m\u001b[0;34m\u001b[0m\u001b[0m\n\u001b[1;32m     12\u001b[0m \u001b[0;34m\u001b[0m\u001b[0m\n",
      "\u001b[0;32m~/anaconda3/lib/python3.7/site-packages/scipy/spatial/distance.py\u001b[0m in \u001b[0;36meuclidean\u001b[0;34m(u, v, w)\u001b[0m\n\u001b[1;32m    618\u001b[0m \u001b[0;34m\u001b[0m\u001b[0m\n\u001b[1;32m    619\u001b[0m     \"\"\"\n\u001b[0;32m--> 620\u001b[0;31m     \u001b[0;32mreturn\u001b[0m \u001b[0mminkowski\u001b[0m\u001b[0;34m(\u001b[0m\u001b[0mu\u001b[0m\u001b[0;34m,\u001b[0m \u001b[0mv\u001b[0m\u001b[0;34m,\u001b[0m \u001b[0mp\u001b[0m\u001b[0;34m=\u001b[0m\u001b[0;36m2\u001b[0m\u001b[0;34m,\u001b[0m \u001b[0mw\u001b[0m\u001b[0;34m=\u001b[0m\u001b[0mw\u001b[0m\u001b[0;34m)\u001b[0m\u001b[0;34m\u001b[0m\u001b[0;34m\u001b[0m\u001b[0m\n\u001b[0m\u001b[1;32m    621\u001b[0m \u001b[0;34m\u001b[0m\u001b[0m\n\u001b[1;32m    622\u001b[0m \u001b[0;34m\u001b[0m\u001b[0m\n",
      "\u001b[0;32m~/anaconda3/lib/python3.7/site-packages/scipy/spatial/distance.py\u001b[0m in \u001b[0;36mminkowski\u001b[0;34m(u, v, p, w)\u001b[0m\n\u001b[1;32m    506\u001b[0m \u001b[0;34m\u001b[0m\u001b[0m\n\u001b[1;32m    507\u001b[0m     \"\"\"\n\u001b[0;32m--> 508\u001b[0;31m     \u001b[0mu\u001b[0m \u001b[0;34m=\u001b[0m \u001b[0m_validate_vector\u001b[0m\u001b[0;34m(\u001b[0m\u001b[0mu\u001b[0m\u001b[0;34m)\u001b[0m\u001b[0;34m\u001b[0m\u001b[0;34m\u001b[0m\u001b[0m\n\u001b[0m\u001b[1;32m    509\u001b[0m     \u001b[0mv\u001b[0m \u001b[0;34m=\u001b[0m \u001b[0m_validate_vector\u001b[0m\u001b[0;34m(\u001b[0m\u001b[0mv\u001b[0m\u001b[0;34m)\u001b[0m\u001b[0;34m\u001b[0m\u001b[0;34m\u001b[0m\u001b[0m\n\u001b[1;32m    510\u001b[0m     \u001b[0;32mif\u001b[0m \u001b[0mp\u001b[0m \u001b[0;34m<\u001b[0m \u001b[0;36m1\u001b[0m\u001b[0;34m:\u001b[0m\u001b[0;34m\u001b[0m\u001b[0;34m\u001b[0m\u001b[0m\n",
      "\u001b[0;32m~/anaconda3/lib/python3.7/site-packages/scipy/spatial/distance.py\u001b[0m in \u001b[0;36m_validate_vector\u001b[0;34m(u, dtype)\u001b[0m\n\u001b[1;32m    334\u001b[0m     \u001b[0mu\u001b[0m \u001b[0;34m=\u001b[0m \u001b[0mnp\u001b[0m\u001b[0;34m.\u001b[0m\u001b[0masarray\u001b[0m\u001b[0;34m(\u001b[0m\u001b[0mu\u001b[0m\u001b[0;34m,\u001b[0m \u001b[0mdtype\u001b[0m\u001b[0;34m=\u001b[0m\u001b[0mdtype\u001b[0m\u001b[0;34m,\u001b[0m \u001b[0morder\u001b[0m\u001b[0;34m=\u001b[0m\u001b[0;34m'c'\u001b[0m\u001b[0;34m)\u001b[0m\u001b[0;34m.\u001b[0m\u001b[0msqueeze\u001b[0m\u001b[0;34m(\u001b[0m\u001b[0;34m)\u001b[0m\u001b[0;34m\u001b[0m\u001b[0;34m\u001b[0m\u001b[0m\n\u001b[1;32m    335\u001b[0m     \u001b[0;31m# Ensure values such as u=1 and u=[1] still return 1-D arrays.\u001b[0m\u001b[0;34m\u001b[0m\u001b[0;34m\u001b[0m\u001b[0;34m\u001b[0m\u001b[0m\n\u001b[0;32m--> 336\u001b[0;31m     \u001b[0mu\u001b[0m \u001b[0;34m=\u001b[0m \u001b[0mnp\u001b[0m\u001b[0;34m.\u001b[0m\u001b[0matleast_1d\u001b[0m\u001b[0;34m(\u001b[0m\u001b[0mu\u001b[0m\u001b[0;34m)\u001b[0m\u001b[0;34m\u001b[0m\u001b[0;34m\u001b[0m\u001b[0m\n\u001b[0m\u001b[1;32m    337\u001b[0m     \u001b[0;32mif\u001b[0m \u001b[0mu\u001b[0m\u001b[0;34m.\u001b[0m\u001b[0mndim\u001b[0m \u001b[0;34m>\u001b[0m \u001b[0;36m1\u001b[0m\u001b[0;34m:\u001b[0m\u001b[0;34m\u001b[0m\u001b[0;34m\u001b[0m\u001b[0m\n\u001b[1;32m    338\u001b[0m         \u001b[0;32mraise\u001b[0m \u001b[0mValueError\u001b[0m\u001b[0;34m(\u001b[0m\u001b[0;34m\"Input vector should be 1-D.\"\u001b[0m\u001b[0;34m)\u001b[0m\u001b[0;34m\u001b[0m\u001b[0;34m\u001b[0m\u001b[0m\n",
      "\u001b[0;32m<__array_function__ internals>\u001b[0m in \u001b[0;36matleast_1d\u001b[0;34m(*args, **kwargs)\u001b[0m\n",
      "\u001b[0;31mKeyboardInterrupt\u001b[0m: "
     ]
    }
   ],
   "source": [
    "T = 10**3\n",
    "K = N = 10**2\n",
    "tot_err = []\n",
    "tot_bias = []\n",
    "tot_var = []\n",
    "test_data = np.array(generate_data(N))\n",
    "train_data = [generate_data(N) for _ in range(T)]\n",
    "\n",
    "for k in range(1, K+1):\n",
    "    err = []\n",
    "    avg_preds = [0 for _ in range(len(test_data))]\n",
    "    knn_reg_tot = []\n",
    "    for d in train_data:\n",
    "        knn_reg = []\n",
    "        \n",
    "        for i in range(len(test_data)):\n",
    "            knn_reg.append(knn_regression(k, d, test_data[i][0]))\n",
    "    \n",
    "        err.append(avg_l2_loss(test_data[:,1], knn_reg))\n",
    "        avg_preds = np.array(avg_preds) + np.array(knn_reg)\n",
    "        knn_reg_tot.append(knn_reg)\n",
    "        \n",
    "    avg_preds = avg_preds / T\n",
    "    bias = [test_data[i][1] - avg_preds[i] for i in range(len(test_data))]\n",
    "    \n",
    "    var = []\n",
    "    \n",
    "    for trial in knn_reg_tot:\n",
    "        tot = []\n",
    "        \n",
    "        for i in range(len(trial)):\n",
    "            tot.append((trial[i] - avg_preds[i])**2)\n",
    "        \n",
    "        var.append(np.mean(tot))\n",
    "    \n",
    "    tot_err.append(np.mean(err))\n",
    "    tot_bias.append(np.mean(bias)**2)\n",
    "    tot_var.append(np.mean(var))"
   ]
  },
  {
   "cell_type": "code",
   "execution_count": null,
   "metadata": {},
   "outputs": [],
   "source": []
  }
 ],
 "metadata": {
  "kernelspec": {
   "display_name": "Python 3",
   "language": "python",
   "name": "python3"
  },
  "language_info": {
   "codemirror_mode": {
    "name": "ipython",
    "version": 3
   },
   "file_extension": ".py",
   "mimetype": "text/x-python",
   "name": "python",
   "nbconvert_exporter": "python",
   "pygments_lexer": "ipython3",
   "version": "3.7.6"
  }
 },
 "nbformat": 4,
 "nbformat_minor": 2
}
