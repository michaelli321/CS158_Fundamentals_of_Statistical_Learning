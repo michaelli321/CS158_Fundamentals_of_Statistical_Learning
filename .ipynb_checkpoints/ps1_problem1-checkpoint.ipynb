{
 "cells": [
  {
   "cell_type": "markdown",
   "metadata": {},
   "source": [
    "## IDS/ACM/CS 158: Fundamentals of Statistical Learning\n",
    "### PS1, Problem 1: K-NN and Linear Regression for Regression\n",
    "> Name: Li, Michael\n",
    " \n",
    "> Email address: mlli@caltech.edu\n",
    "\n",
    "Notes:\n",
    "Please use python 3.6\n",
    "\n",
    "You are required to properly comment and organize your code."
   ]
  },
  {
   "cell_type": "markdown",
   "metadata": {},
   "source": [
    "* Helper functions (add/remove part label according to the specific question requirements)"
   ]
  },
  {
   "cell_type": "code",
   "execution_count": 1,
   "metadata": {},
   "outputs": [],
   "source": [
    "import numpy as np\n",
    "import numpy.matlib\n",
    "\n",
    "def load_data(filename):\n",
    "    \"\"\"\n",
    "    filename - filename to open and load\n",
    "    \n",
    "    Returns file as matrix of pairs of observations\n",
    "    (x_i, y_i) where x_i is a p-vector\n",
    "    \"\"\"\n",
    "    res = np.loadtxt(open(filename, \"rb\"), delimiter=\",\", skiprows=1)\n",
    "    return res\n",
    "\n",
    "def average_error(ys, y_preds):\n",
    "    return np.mean((ys - y_preds)**2)"
   ]
  },
  {
   "cell_type": "markdown",
   "metadata": {},
   "source": [
    "* <b>Part A</b>"
   ]
  },
  {
   "cell_type": "code",
   "execution_count": 2,
   "metadata": {},
   "outputs": [],
   "source": [
    "def knn_regression(K, D, X):\n",
    "    \"\"\"\n",
    "    K - number of neighbors\n",
    "    D - training data consisting of pairs of p-dimensional vectors and outputs\n",
    "    X - a column p-vector that represents a new input\n",
    "    \n",
    "    Returns the K-NN regression of X using D\n",
    "    \"\"\"\n",
    "    train_x = D[:,:-1]\n",
    "    train_y = D[:,-1]\n",
    "    \n",
    "    dists = np.sqrt(np.sum((train_x - np.matlib.repmat(X, len(train_x), 1))**2, axis=1))\n",
    "    inds = dists.argsort()\n",
    "    return np.mean(train_y[inds][:K])"
   ]
  },
  {
   "cell_type": "markdown",
   "metadata": {},
   "source": [
    "* <b>Part B</b>"
   ]
  },
  {
   "cell_type": "code",
   "execution_count": 3,
   "metadata": {},
   "outputs": [],
   "source": [
    "def linreg_regression(D, X):\n",
    "    \"\"\"\n",
    "    D - training data consisting of pairs of p-dimensional vectors and output\n",
    "    X - a column p-vector that represents a new input\n",
    "    \n",
    "    Returns the linear regression of X using D\n",
    "    \"\"\"\n",
    "\n",
    "    x = D[:,:-1]\n",
    "    y = D[:,-1]\n",
    "    \n",
    "    # add bias term to training data\n",
    "    bias = np.matlib.repmat(1, len(x), 1)\n",
    "    x = np.concatenate((bias, x), axis=1)\n",
    "    \n",
    "    # calculate beta\n",
    "    intermediate = np.matmul(x.transpose(), x)\n",
    "    inverse_intermediate = np.linalg.inv(np.array(intermediate))\n",
    "    pseudo_x = np.matmul(inverse_intermediate, x.transpose())\n",
    "    \n",
    "    beta = np.matmul(pseudo_x, y)\n",
    "    \n",
    "    # apply beta weight to X\n",
    "    return np.matmul([1]+X.tolist(), beta)"
   ]
  },
  {
   "cell_type": "markdown",
   "metadata": {},
   "source": [
    "* <b>Part C</b>"
   ]
  },
  {
   "cell_type": "code",
   "execution_count": 4,
   "metadata": {},
   "outputs": [],
   "source": [
    "def knn_vs_linear_reg(train_filename, test_filename, dataset):\n",
    "    \"\"\"\n",
    "    train_filename - filename of training data to load\n",
    "    test_filename - filename of test data to load\n",
    "    dataset - number of dataset\n",
    "    \n",
    "    Prints Results for KNN vs LinReg\n",
    "    \"\"\"\n",
    "    K = 5\n",
    "    training_data = load_data(train_filename)\n",
    "    test_data = load_data(test_filename)\n",
    "\n",
    "    test_x = test_data[:,:-1]\n",
    "    test_y = test_data[:,-1]\n",
    "    knn = [knn_regression(K, training_data, test_x[i]) for i in range(len(test_x))]\n",
    "    lr = [linreg_regression(training_data, test_x[i]) for i in range(len(test_x))]\n",
    "    \n",
    "    Err_knn = average_error(test_y, np.array(knn))\n",
    "    Err_lr = average_error(test_y, np.array(lr))\n",
    "    R = Err_knn / Err_lr  \n",
    "\n",
    "    print('For dataset {}\\n Err_knn is {:1.4f} \\n Err_lr is {:1.4f} \\n R = {:1.4f}'.format(dataset, Err_knn, Err_lr, R))\n",
    "    if R > 1:\n",
    "        print(' Linear regression is better.')\n",
    "    else:\n",
    "        print(' k-NN is better.')"
   ]
  },
  {
   "cell_type": "code",
   "execution_count": 5,
   "metadata": {},
   "outputs": [
    {
     "name": "stdout",
     "output_type": "stream",
     "text": [
      "For dataset 1\n",
      " Err_knn is 0.3416 \n",
      " Err_lr is 0.0427 \n",
      " R = 8.0073\n",
      " Linear regression is better.\n",
      "\n",
      "For dataset 2\n",
      " Err_knn is 0.4928 \n",
      " Err_lr is 2.3068 \n",
      " R = 0.2136\n",
      " k-NN is better.\n"
     ]
    }
   ],
   "source": [
    "knn_vs_linear_reg('dataset1_train.csv', 'dataset1_test.csv', 1)\n",
    "print()\n",
    "knn_vs_linear_reg('dataset2_train.csv', 'dataset2_test.csv', 2)"
   ]
  },
  {
   "cell_type": "code",
   "execution_count": null,
   "metadata": {},
   "outputs": [],
   "source": []
  }
 ],
 "metadata": {
  "kernelspec": {
   "display_name": "Python 3",
   "language": "python",
   "name": "python3"
  },
  "language_info": {
   "codemirror_mode": {
    "name": "ipython",
    "version": 3
   },
   "file_extension": ".py",
   "mimetype": "text/x-python",
   "name": "python",
   "nbconvert_exporter": "python",
   "pygments_lexer": "ipython3",
   "version": "3.7.6"
  }
 },
 "nbformat": 4,
 "nbformat_minor": 2
}
