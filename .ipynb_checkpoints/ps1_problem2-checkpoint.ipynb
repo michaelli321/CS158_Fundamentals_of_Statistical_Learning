{
 "cells": [
  {
   "cell_type": "markdown",
   "metadata": {},
   "source": [
    "## IDS/ACM/CS 158: Fundamentals of Statistical Learning\n",
    "### PS{}, Problem {}: {Question title}\n",
    "> Name: Last name, first name\n",
    " \n",
    "> Email address: xxx@caltech.edu\n",
    "\n",
    "Notes:\n",
    "Please use python 3.6\n",
    "\n",
    "You are required to properly comment and organize your code."
   ]
  },
  {
   "cell_type": "markdown",
   "metadata": {},
   "source": [
    "* Helper functions (add/remove part label according to the specific question requirements)"
   ]
  },
  {
   "cell_type": "code",
   "execution_count": 2,
   "metadata": {},
   "outputs": [],
   "source": [
    "## Define functions\n",
    "# To make TA grading easier, we recommend you do not import external py file,\n",
    "# which means we have to open extra files to check your code.\n",
    "# You can directly define your helper functions here such that we can directly check in one ipynb file.\n",
    "\n",
    "## Import libraries for your helper functions\n",
    "# You should minimize the number of packages you import. Usually you only need numpy, scipy, matplotlib, etc.\n",
    "# We want you to implement functions on your own. DO NOT directly use any packages like sklearn.\n",
    "import numpy as np\n",
    "import numpy.matlib\n",
    "\n",
    "\n",
    "def function_A(a,b,c):\n",
    "    \"\"\"\n",
    "    Describe your function here. \n",
    "    What is the usage of your function?\n",
    "    What are the input and output parameters？\n",
    "    Properly comment your code.\n",
    "    \"\"\"\n",
    "\n",
    "    print('a = ', a)   # sample size of the training data\n",
    "\n",
    "    \n",
    "    return a+b+c"
   ]
  },
  {
   "cell_type": "markdown",
   "metadata": {},
   "source": [
    "* Part A (add/remove part label according to the specific question requirements)"
   ]
  },
  {
   "cell_type": "code",
   "execution_count": null,
   "metadata": {},
   "outputs": [],
   "source": [
    "# Python version 3.6\n",
    "# Required package numpy>=1.10\n",
    "\n",
    "## Import libraries for your helper functions\n",
    "# You should minimize the number of packages you import. Usually you only need numpy, scipy, matplotlib, etc.\n",
    "# We want you to implement functions on your own. DO NOT directly use any packages like sklearn.\n",
    "import numpy as np\n",
    "import numpy.matlib\n",
    "\n",
    "# (not recommended)You can also use the functions in your own py files \n",
    "# from aaa import aaa\n",
    "# from bbb import bbb\n",
    "\n",
    "## load data\n",
    "# Data set 1\n",
    "D_train = np.genfromtxt('dataset1_train.csv',delimiter=',',skip_header =1) # sample: load csv data\n",
    "D_test = np.genfromtxt('dataset1_test.csv',delimiter=',',skip_header =1)\n",
    "\n",
    "\n",
    "#############################################################\n",
    "## Your code to solve the problem\n",
    "\n",
    "\n",
    "\n",
    "#############################################################\n",
    "\n",
    "\n",
    "#############################################################\n",
    "## print out/plot the required results:\n",
    "\n",
    "print('For dataset 1\\n Err_knn is {:1.4f} \\n Err_lr is {:1.4f} \\n R = {:1.4f}'.format(Err_knn, Err_lr, R))\n",
    "if R > 1:\n",
    "    print(' Linear regression is better.')\n",
    "else:\n",
    "    print(' k-NN is better.')\n",
    "#############################################################\n",
    "\n",
    "\n",
    "## please log the printed output as well\n",
    "# For dataset 1\n",
    "#  Err_knn is ___\n",
    "#  Err_lr is ___\n",
    "#  R = ________\n",
    "#  ____________ is better. "
   ]
  },
  {
   "cell_type": "markdown",
   "metadata": {},
   "source": [
    "* Part B (add/remove part label according to the specific question requirements)"
   ]
  },
  {
   "cell_type": "code",
   "execution_count": null,
   "metadata": {},
   "outputs": [],
   "source": [
    "## Plot figure (if required by the question)\n",
    "# You should carefully label x-axis, y-axis, title, legend, etc.\n",
    "# Make subplot when necessary\n",
    "import matplotlib.pyplot as plt\n",
    "\n",
    "\n",
    "\n",
    "## convert your file to pdf\n",
    "# You can use whatever method you like to generate pdf file.\n",
    "# But you have to make sure that your lines are not too line to fit the paper size.\n",
    "# All results and figures should be kept untouch in your printed pdf\n",
    "# Do not screenshot your webpage!\n",
    "\n",
    "# The easiest way I can find is use jupyter build-in function: File-Download as-PDF via LaTeX\n",
    "# You may have to install LaTeX for the first time"
   ]
  }
 ],
 "metadata": {
  "kernelspec": {
   "display_name": "Python 3",
   "language": "python",
   "name": "python3"
  },
  "language_info": {
   "codemirror_mode": {
    "name": "ipython",
    "version": 3
   },
   "file_extension": ".py",
   "mimetype": "text/x-python",
   "name": "python",
   "nbconvert_exporter": "python",
   "pygments_lexer": "ipython3",
   "version": "3.7.4"
  }
 },
 "nbformat": 4,
 "nbformat_minor": 2
}
