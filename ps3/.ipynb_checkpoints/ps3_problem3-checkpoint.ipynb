{
 "cells": [
  {
   "cell_type": "markdown",
   "metadata": {},
   "source": [
    "## IDS/ACM/CS 158: Fundamentals of Statistical Learning\n",
    "### PS3, Problem 3: Best Subset Selection\n",
    "> Name: Li, Michael\n",
    " \n",
    "> Email address: mlli@caltech.edu\n",
    "\n",
    "Notes:\n",
    "Please use python 3.6\n",
    "\n",
    "You are required to properly comment and organize your code."
   ]
  },
  {
   "cell_type": "markdown",
   "metadata": {},
   "source": [
    "* Helper functions (add/remove part label according to the specific question requirements)"
   ]
  },
  {
   "cell_type": "code",
   "execution_count": 1,
   "metadata": {},
   "outputs": [],
   "source": [
    "import numpy as np\n",
    "import numpy.matlib\n",
    "import scipy.stats\n",
    "import itertools\n",
    "import matplotlib.pyplot as plt\n",
    "\n",
    "def standardize_col(column):\n",
    "    \"\"\"\n",
    "    column - an np array of values from a population\n",
    "    \n",
    "    returns the standardized column with mean 0 and std = 1\n",
    "    \"\"\"\n",
    "    mean = np.mean(column)\n",
    "    std = np.std(column, ddof=1)\n",
    "        \n",
    "    return (column - mean) / std\n",
    "\n",
    "def predict(ols, data):\n",
    "    \"\"\"\n",
    "    ols - ols estimate of the regression parameter\n",
    "    data - a matrix where each row corresponds to the \n",
    "           p predictors in the first p columns and\n",
    "           the observed output y in the final column\n",
    "           \n",
    "    returns the predictions for the observations in data\n",
    "    \"\"\"\n",
    "    x_with_bias_term = np.concatenate((np.matlib.repmat(1, len(data), 1), data[:,:-1]), axis=1)\n",
    "    return np.matmul(x_with_bias_term, ols)\n",
    "\n",
    "def reduce_data(data, indices):\n",
    "    \"\"\"\n",
    "    data - a matrix where each row corresponds to the \n",
    "           p predictors in the first p columns and\n",
    "           the observed output y in the final column\n",
    "    indices - which indices to use from the data\n",
    "    \n",
    "    returns the reduced dataset containing only the predictors in indices\n",
    "    \"\"\"\n",
    "    return np.append(data[:,indices], data[:,-1][...,None], 1)\n",
    "\n",
    "def find_beta(data):\n",
    "    \"\"\"\n",
    "    data - a matrix where each row corresponds to the \n",
    "           p predictors in the first p columns and\n",
    "           the observed output y in the final column\n",
    "    \n",
    "    returns the OLS estimate of the regression parameter\n",
    "    \"\"\"\n",
    "    x = data[:,:-1]\n",
    "    y = data[:,-1]\n",
    "\n",
    "    # add bias term to training data\n",
    "    bias = np.matlib.repmat(1, len(x), 1)\n",
    "    x = np.concatenate((bias, x), axis=1)\n",
    "\n",
    "    # calculate beta\n",
    "    intermediate = np.matmul(x.transpose(), x)\n",
    "    inverse_intermediate = np.linalg.inv(np.array(intermediate))\n",
    "    pseudo_x = np.matmul(inverse_intermediate, x.transpose())\n",
    "\n",
    "    return np.matmul(pseudo_x, y)\n",
    "\n",
    "def rss(data, preds):\n",
    "    \"\"\"\n",
    "    data - a matrix where each row corresponds to the \n",
    "           p predictors in the first p columns and\n",
    "           the observed output y in the final column\n",
    "    preds - the predictions for the observations in data\n",
    "    \n",
    "    returns the residual sum of squares for the values\n",
    "    \"\"\"\n",
    "    return np.sum((data[:,-1] - preds)**2)\n",
    "\n",
    "def l2_loss(data, preds):\n",
    "    \"\"\"\n",
    "    data - a matrix where each row corresponds to the \n",
    "           p predictors in the first p columns and\n",
    "           the observed output y in the final column\n",
    "    preds - the predictions for the observations in data\n",
    "    \n",
    "    returns the L2 loss of the values\n",
    "    \"\"\"\n",
    "    return np.mean((data[:,-1] - preds)**2)"
   ]
  },
  {
   "cell_type": "code",
   "execution_count": 2,
   "metadata": {},
   "outputs": [],
   "source": [
    "data = np.genfromtxt('prostate_cancer.csv', delimiter=',', skip_header=1)\n",
    "\n",
    "standardized_data = data.copy()\n",
    "\n",
    "for i in range(len(data[0])-2):\n",
    "    standardized_data[:,i] = standardize_col(data[:,i])\n",
    "\n",
    "# split the data into train and test\n",
    "train_data = np.array([observation[:-1] for observation in standardized_data if observation[-1] == 1])\n",
    "test_data = np.array([observation[:-1] for observation in standardized_data if observation[-1] == 0])"
   ]
  },
  {
   "cell_type": "markdown",
   "metadata": {},
   "source": [
    "* <b>Part A</b>"
   ]
  },
  {
   "cell_type": "code",
   "execution_count": 3,
   "metadata": {},
   "outputs": [],
   "source": [
    "models = {\n",
    "    0:[],\n",
    "    1:[],\n",
    "    2:[],\n",
    "    3:[],\n",
    "    4:[],\n",
    "    5:[],\n",
    "    6:[],\n",
    "    7:[],\n",
    "    8:[]\n",
    "}"
   ]
  },
  {
   "cell_type": "code",
   "execution_count": 4,
   "metadata": {},
   "outputs": [],
   "source": [
    "best_models = []\n",
    "\n",
    "for p_reduced in range(9):\n",
    "    # keep track of the best model for each p_reduced (rss, indices, beta)\n",
    "    p_reduced_best = (10**100, None)\n",
    "    \n",
    "    for indices in itertools.combinations(range(len(train_data[0][:-1])), p_reduced):\n",
    "        # get new dataset and calculate OLS using only indices\n",
    "        reduced_data = reduce_data(train_data, indices)\n",
    "        beta = find_beta(reduced_data)\n",
    "        \n",
    "        # find residuals \n",
    "        preds = predict(beta, reduced_data)\n",
    "        residuals = rss(reduced_data, preds)\n",
    "        models[p_reduced].append(residuals)\n",
    "        \n",
    "        # update if model has lower residuals\n",
    "        if residuals < p_reduced_best[0]:\n",
    "            p_reduced_best = (residuals, indices, beta)\n",
    "    \n",
    "    # keep track of best model for each p_reduced\n",
    "    best_models.append((p_reduced_best[1], p_reduced_best[2]))"
   ]
  },
  {
   "cell_type": "code",
   "execution_count": 5,
   "metadata": {},
   "outputs": [
    {
     "data": {
      "image/png": "[encoded data removed]",
      "text/plain": [
       "<Figure size 1080x720 with 1 Axes>"
      ]
     },
     "metadata": {
      "needs_background": "light"
     },
     "output_type": "display_data"
    }
   ],
   "source": [
    "subset_sizes = []\n",
    "residuals = []\n",
    "\n",
    "for key in models:\n",
    "    for _ in range(len(models[key])):\n",
    "        subset_sizes.append(key)\n",
    "        \n",
    "for key in models:\n",
    "    for r in models[key]:\n",
    "        residuals.append(r)\n",
    "\n",
    "plt.rcParams['figure.figsize'] = [15, 10]\n",
    "plt.scatter(subset_sizes, residuals)\n",
    "plt.xlabel('Dimension of Reduced Model', fontsize=12)\n",
    "plt.ylabel('RSS', fontsize=12)\n",
    "plt.title('RSS of $2^p$ Fitted Models vs Dimension of Reduced Model', fontsize=15)\n",
    "plt.show()"
   ]
  },
  {
   "cell_type": "code",
   "execution_count": 6,
   "metadata": {},
   "outputs": [
    {
     "data": {
      "text/plain": [
       "array([(), (0,), (0, 1), (0, 1, 4), (0, 1, 3, 4), (0, 1, 3, 4, 7),\n",
       "       (0, 1, 3, 4, 5, 7), (0, 1, 2, 3, 4, 5, 7),\n",
       "       (0, 1, 2, 3, 4, 5, 6, 7)], dtype=object)"
      ]
     },
     "execution_count": 6,
     "metadata": {},
     "output_type": "execute_result"
    }
   ],
   "source": [
    "np.array(best_models)[:,0]"
   ]
  },
  {
   "cell_type": "markdown",
   "metadata": {},
   "source": [
    "<ul>\n",
    "    <li>Best model for $\\tilde{p}$=0 includes no inputs </li>\n",
    "    <li>Best model for $\\tilde{p}$=1 includes lcavol</li>\n",
    "    <li>Best model for $\\tilde{p}$=2 includes lcavol and lweight</li>\n",
    "    <li>Best model for $\\tilde{p}$=3 includes lcavol, lweight, and svi</li>\n",
    "    <li>Best model for $\\tilde{p}$=4 includes lcavol, lweight, lbph, and svi</li>\n",
    "    <li>Best model for $\\tilde{p}$=5 includes lcavol, lweight, lbph, svi, and pgg45</li>\n",
    "    <li>Best model for $\\tilde{p}$=6 includes lcavol, lweight, lbph, svi, lcp, and pgg45</li>\n",
    "    <li>Best model for $\\tilde{p}$=7 includes lcavol, lweight, age, lbph, svi, lcp, and pgg45</li>\n",
    "    <li>Best model for $\\tilde{p}$=8 includes lcavol, lweight, age, lbph, svi, lcp, gleason, pgg45</li>\n",
    "</ul>\n"
   ]
  },
  {
   "cell_type": "code",
   "execution_count": 7,
   "metadata": {},
   "outputs": [],
   "source": [
    "test_errs = []\n",
    "\n",
    "for indices, beta in best_models:\n",
    "    # calculate test error using best reduced models\n",
    "    reduced_test = reduce_data(test_data, indices)\n",
    "    preds = predict(beta, reduced_test)\n",
    "    test_errs.append(l2_loss(reduced_test, preds))\n"
   ]
  },
  {
   "cell_type": "code",
   "execution_count": 8,
   "metadata": {},
   "outputs": [
    {
     "data": {
      "image/png": "[encoded data removed]",
      "text/plain": [
       "<Figure size 1080x720 with 1 Axes>"
      ]
     },
     "metadata": {
      "needs_background": "light"
     },
     "output_type": "display_data"
    }
   ],
   "source": [
    "plt.plot(np.arange(len(train_data[0])), test_errs)\n",
    "plt.xlabel('Dimension of Reduced Model', fontsize=12)\n",
    "plt.ylabel('Validation/Test Error', fontsize=12)\n",
    "plt.title('Validation/Test Error vs Dimension of Reduced Model for Best Models For Respective Reduced Dimension', fontsize=15)\n",
    "plt.show()"
   ]
  },
  {
   "cell_type": "code",
   "execution_count": 9,
   "metadata": {},
   "outputs": [
    {
     "data": {
      "text/plain": [
       "((0, 1, 4), array([2.46944993, 0.61286858, 0.31565144, 0.22268916]))"
      ]
     },
     "execution_count": 9,
     "metadata": {},
     "output_type": "execute_result"
    }
   ],
   "source": [
    "best_models[3]"
   ]
  },
  {
   "cell_type": "markdown",
   "metadata": {},
   "source": [
    "The best final model is $f(X) = \\sum_{i=0}^p \\hat{\\beta}X_i$ where $\\hat{\\beta}$ = [2.46944993, 0.61286858, 0.31565144, 0, 0, 0.22268916, 0, 0, 0]. Specifically, lcavol, lweight, and svi are inputs."
   ]
  },
  {
   "cell_type": "markdown",
   "metadata": {},
   "source": [
    "* <b>Part B</b>"
   ]
  },
  {
   "cell_type": "code",
   "execution_count": 10,
   "metadata": {},
   "outputs": [],
   "source": [
    "def kfolds(data):\n",
    "    \"\"\"\n",
    "    data - data to split into 5 folds\n",
    "    \n",
    "    returns 5 different folds of data\n",
    "    \"\"\"\n",
    "    np.random.shuffle(data)\n",
    "    return [data[:19], data[19:38], data[38:57], data[57:77], data[77:]]\n",
    "\n",
    "def split_folds(folds, index):\n",
    "    \"\"\"\n",
    "    folds - list of K folds of data\n",
    "    index - which of the folds to use for test data\n",
    "    \n",
    "    returns train and test of the data\n",
    "    \"\"\"\n",
    "    test = folds[index]\n",
    "    train_temp = np.delete(folds, index, axis=0)\n",
    "    train = []\n",
    "    \n",
    "    for fold in train_temp:\n",
    "        for row in fold:\n",
    "            train.append(row)\n",
    "    \n",
    "    return np.array(train), test\n",
    "\n",
    "def mean_and_se(data):\n",
    "    \"\"\"\n",
    "    data - a column of data\n",
    "    \n",
    "    returns the mean of the data and standard error\n",
    "    \"\"\"\n",
    "    mean = np.mean(data)\n",
    "    se = np.sqrt(np.mean((data-mean)**2))\n",
    "    \n",
    "    return mean, se"
   ]
  },
  {
   "cell_type": "code",
   "execution_count": 11,
   "metadata": {},
   "outputs": [],
   "source": [
    "r_cvs = {\n",
    "    0:[],\n",
    "    1:[],\n",
    "    2:[],\n",
    "    3:[],\n",
    "    4:[],\n",
    "    5:[],\n",
    "    6:[],\n",
    "    7:[],\n",
    "    8:[]\n",
    "}"
   ]
  },
  {
   "cell_type": "code",
   "execution_count": 12,
   "metadata": {},
   "outputs": [],
   "source": [
    "for _ in range(100):\n",
    "    folds = kfolds(standardized_data[:,:-1])\n",
    "    cvs = {\n",
    "            0:[],\n",
    "            1:[],\n",
    "            2:[],\n",
    "            3:[],\n",
    "            4:[],\n",
    "            5:[],\n",
    "            6:[],\n",
    "            7:[],\n",
    "            8:[]\n",
    "    }\n",
    "\n",
    "    for k in range(len(folds)):\n",
    "        # organize our train and test from the fold split\n",
    "        train, test = split_folds(folds, k)\n",
    "\n",
    "        for p_reduced in range((len(train[0]))):\n",
    "            # keep track of the best model for each p_reduced (rss, indices, beta) \n",
    "            p_reduced_best = (10**100, None)\n",
    "\n",
    "            for indices in itertools.combinations(range(len(train[0][:-1])), p_reduced):\n",
    "                # reduce the data and calculate the residuals\n",
    "                reduced_data = reduce_data(train, indices)\n",
    "                beta = find_beta(reduced_data)\n",
    "                preds = predict(beta, reduced_data)\n",
    "                residuals = rss(reduced_data, preds)\n",
    "                \n",
    "                # update the best model if residuals are smaller\n",
    "                if residuals < p_reduced_best[0]:\n",
    "                    p_reduced_best = (residuals, indices, beta)\n",
    "            \n",
    "            # retrain best model and calculate the test error\n",
    "            reduced_train = reduce_data(train, p_reduced_best[1])\n",
    "            reduced_test = reduce_data(test, p_reduced_best[1])\n",
    "            preds = predict(p_reduced_best[2], reduced_test)\n",
    "            cvs[p_reduced].append(l2_loss(reduced_test, preds))\n",
    "    \n",
    "    # keep track of cv err for each run\n",
    "    for key in cvs:\n",
    "        r_cvs[key].append(np.mean(cvs[key]))"
   ]
  },
  {
   "cell_type": "code",
   "execution_count": 13,
   "metadata": {},
   "outputs": [],
   "source": [
    "means = []\n",
    "ses = []\n",
    "\n",
    "for key in r_cvs:\n",
    "    mean, se = mean_and_se(r_cvs[key])\n",
    "    means.append(mean)\n",
    "    ses.append(se)"
   ]
  },
  {
   "cell_type": "code",
   "execution_count": 14,
   "metadata": {},
   "outputs": [
    {
     "data": {
      "image/png": "[encoded data removed]",
      "text/plain": [
       "<Figure size 1080x720 with 1 Axes>"
      ]
     },
     "metadata": {
      "needs_background": "light"
     },
     "output_type": "display_data"
    }
   ],
   "source": [
    "plt.errorbar(np.arange(9), means, ses, linestyle='None', marker='o')\n",
    "plt.xlabel('Dimension of Reduced Model', fontsize=12)\n",
    "plt.ylabel('Mean Cross Validation Errors', fontsize=12)\n",
    "plt.title('Mean CV Estimates of the Test Errors w/Standard Errors vs Subset Size', fontsize=15)\n",
    "plt.show()"
   ]
  },
  {
   "cell_type": "code",
   "execution_count": 15,
   "metadata": {},
   "outputs": [
    {
     "data": {
      "text/plain": [
       "7"
      ]
     },
     "execution_count": 15,
     "metadata": {},
     "output_type": "execute_result"
    }
   ],
   "source": [
    "p_reduced_min = np.argmin(means)\n",
    "p_reduced_min"
   ]
  },
  {
   "cell_type": "code",
   "execution_count": 16,
   "metadata": {},
   "outputs": [],
   "source": [
    "p_reduced_best = None\n",
    "\n",
    "for i in range(len(means)):\n",
    "    if means[i] < means[p_reduced_min] + ses[p_reduced_min]:\n",
    "        p_reduced_best = i\n",
    "        break"
   ]
  },
  {
   "cell_type": "code",
   "execution_count": 17,
   "metadata": {},
   "outputs": [
    {
     "data": {
      "text/plain": [
       "3"
      ]
     },
     "execution_count": 17,
     "metadata": {},
     "output_type": "execute_result"
    }
   ],
   "source": [
    "p_reduced_best"
   ]
  },
  {
   "cell_type": "markdown",
   "metadata": {},
   "source": [
    "$\\tilde{p}_{min}$ = 7 <br />\n",
    "$\\tilde{p}^*$ = 3"
   ]
  },
  {
   "cell_type": "code",
   "execution_count": 18,
   "metadata": {},
   "outputs": [],
   "source": [
    "best_model = (10**100, None)\n",
    "\n",
    "for indices in itertools.combinations(range(len(standardized_data[0][:-2])), p_reduced_best):\n",
    "    # find all models with only p* predictors and find best one with lowest rss\n",
    "    reduced_data = reduce_data(standardized_data[:,:-1], indices)\n",
    "    beta = find_beta(reduced_data)\n",
    "    preds = predict(beta, reduced_data)\n",
    "    residuals = rss(reduced_data, preds)\n",
    "\n",
    "    if residuals < best_model[0]:\n",
    "        best_model = (residuals, indices, beta)"
   ]
  },
  {
   "cell_type": "code",
   "execution_count": 19,
   "metadata": {},
   "outputs": [
    {
     "data": {
      "text/plain": [
       "((0, 1, 4), array([2.47838688, 0.61978211, 0.28350966, 0.27558254]))"
      ]
     },
     "execution_count": 19,
     "metadata": {},
     "output_type": "execute_result"
    }
   ],
   "source": [
    "best_model[1:]"
   ]
  },
  {
   "cell_type": "markdown",
   "metadata": {},
   "source": [
    "The best final model is $f(X) = \\sum_{i=0}^p \\hat{\\beta}X_i$ where $\\hat{\\beta}$ = [2.47838688, 0.61978211, 0.28350966, 0, 0, 0.27558254, 0, 0, 0]. Specifically, lcavol, lweight, and svi are inputs."
   ]
  }
 ],
 "metadata": {
  "kernelspec": {
   "display_name": "Python 3",
   "language": "python",
   "name": "python3"
  },
  "language_info": {
   "codemirror_mode": {
    "name": "ipython",
    "version": 3
   },
   "file_extension": ".py",
   "mimetype": "text/x-python",
   "name": "python",
   "nbconvert_exporter": "python",
   "pygments_lexer": "ipython3",
   "version": "3.7.6"
  }
 },
 "nbformat": 4,
 "nbformat_minor": 2
}
