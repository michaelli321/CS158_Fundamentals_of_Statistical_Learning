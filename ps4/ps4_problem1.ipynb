{
 "cells": [
  {
   "cell_type": "markdown",
   "metadata": {},
   "source": [
    "## IDS/ACM/CS 158: Fundamentals of Statistical Learning\n",
    "### PS4, Problem 1: The LASSO\n",
    "> Name: Li, Michael\n",
    " \n",
    "> Email address: mlli@caltech.edu\n",
    "\n",
    "Notes:\n",
    "Please use python 3.6\n",
    "\n",
    "You are required to properly comment and organize your code."
   ]
  },
  {
   "cell_type": "markdown",
   "metadata": {},
   "source": [
    "* Helper functions (add/remove part label according to the specific question requirements)"
   ]
  },
  {
   "cell_type": "code",
   "execution_count": 1,
   "metadata": {},
   "outputs": [],
   "source": [
    "import numpy as np\n",
    "import numpy.matlib\n",
    "import scipy.stats\n",
    "import itertools\n",
    "import matplotlib.pyplot as plt\n",
    "from collections import defaultdict\n",
    "from sklearn.linear_model import Lasso\n",
    "import warnings\n",
    "warnings.filterwarnings('ignore')\n",
    "\n",
    "def predict(ols, data, y_avg):\n",
    "    \"\"\"\n",
    "    ols - ols estimate of the regression parameter\n",
    "    data - a matrix where each row corresponds to the \n",
    "           p predictors in the first p columns and\n",
    "           the observed output y in the final column\n",
    "    y_avg - average y prediction from the training data\n",
    "            to add back when we predict\n",
    "           \n",
    "    returns the predictions for the observations in data\n",
    "    \"\"\"\n",
    "    return np.matmul(data[:,:-1], ols) + y_avg\n",
    "\n",
    "def l2_loss(data, preds):\n",
    "    \"\"\"\n",
    "    data - a matrix where each row corresponds to the \n",
    "           p predictors in the first p columns and\n",
    "           the observed output y in the final column\n",
    "    preds - the predictions for the observations in data\n",
    "    \n",
    "    returns the L2 loss of the values\n",
    "    \"\"\"\n",
    "    return np.mean((data[:,-1] - preds)**2)\n",
    "\n",
    "def split_folds(folds, index):\n",
    "    \"\"\"\n",
    "    folds - list of K folds of data\n",
    "    index - which of the folds to use for test data\n",
    "    \n",
    "    returns train and test of the data\n",
    "    \"\"\"\n",
    "    test = folds[index]\n",
    "    train_temp = np.delete(folds, index, axis=0)\n",
    "    train = []\n",
    "    \n",
    "    for fold in train_temp:\n",
    "        for row in fold:\n",
    "            train.append(row)\n",
    "    \n",
    "    return np.array(train), test\n",
    "\n",
    "def kfolds(data):\n",
    "    \"\"\"\n",
    "    data - data to split into 5 folds\n",
    "    \n",
    "    returns 5 different folds of data\n",
    "    \"\"\"\n",
    "    np.random.shuffle(data)\n",
    "    return [data[:19], data[19:38], data[38:57], data[57:77], data[77:]]\n",
    "    \n",
    "def mean_and_se(data):\n",
    "    \"\"\"\n",
    "    data - a column of data\n",
    "    \n",
    "    returns the mean of the data and standard error\n",
    "    \"\"\"\n",
    "    mean = np.mean(data)\n",
    "    se = np.sqrt(np.mean((data-mean)**2))\n",
    "    \n",
    "    return mean, se"
   ]
  },
  {
   "cell_type": "code",
   "execution_count": 2,
   "metadata": {},
   "outputs": [],
   "source": [
    "class LassoPreprocessor:\n",
    "    \"\"\"\n",
    "    Object that keeps track of the training preprocesing step\n",
    "    \n",
    "    Initialize with data and object keeps track of \n",
    "    mean of each column, standard deviations of each column, and \n",
    "    the average y of the data\n",
    "    \"\"\"\n",
    "    def __init__(self, data):\n",
    "        self.means = np.mean(data[:,:-1], axis=0)\n",
    "        self.stds = np.std(data[:,:-1], axis=0, ddof=1)\n",
    "        self.y_avg= np.mean(data[:,-1])\n",
    "        \n",
    "    def _standardize_col(self, column, mean, std):\n",
    "        \"\"\"\n",
    "        column - an np array of values from a population\n",
    "\n",
    "        returns the standardized column with mean 0 and std = 1\n",
    "        \"\"\"\n",
    "        return (column - mean) / std  \n",
    "    \n",
    "    def preprocess(self, data):\n",
    "        \"\"\"\n",
    "        given a dataset, standardize it using the saved means, stds, and y_avg\n",
    "        \"\"\"\n",
    "        standardized_data = data.copy()\n",
    "        \n",
    "        for i in range(len(data[0])-1):\n",
    "            standardized_data[:,i] = self._standardize_col(data[:,i], self.means[i], self.stds[i])\n",
    "            \n",
    "        standardized_data[:,-1] -= self.y_avg\n",
    "        \n",
    "        return standardized_data\n",
    "    \n",
    "    def get_y_avg(self):\n",
    "        \"\"\"\n",
    "        Getter method to get the y_avg value\n",
    "        \"\"\"\n",
    "        return self.y_avg"
   ]
  },
  {
   "cell_type": "code",
   "execution_count": 3,
   "metadata": {},
   "outputs": [],
   "source": [
    "data = np.genfromtxt('prostate_cancer.csv', delimiter=',', skip_header=1)[:,:-1]"
   ]
  },
  {
   "cell_type": "code",
   "execution_count": 4,
   "metadata": {},
   "outputs": [],
   "source": [
    "cvs = defaultdict(list)\n",
    "\n",
    "for _ in range(100):\n",
    "    # split up our data into folds\n",
    "    folds = kfolds(data)\n",
    "    \n",
    "    for lamb in np.linspace(0, 1, 101, endpoint=True):\n",
    "        cv_err = []\n",
    "        \n",
    "        for k in range(len(folds)):\n",
    "            # organize our train and test and preprocess everything according to train\n",
    "            train, test = split_folds(folds, k)\n",
    "            preprocessor = LassoPreprocessor(train)\n",
    "            train_processed = preprocessor.preprocess(train)\n",
    "            test_processed = preprocessor.preprocess(test)\n",
    "            \n",
    "            # calculate lasso estimates and calculate error for fold\n",
    "            clf = Lasso(alpha=lamb, fit_intercept=False, normalize=False, max_iter=10000)\n",
    "            clf.fit(train_processed[:,:-1], train_processed[:,-1])\n",
    "            test_preds = predict(clf.coef_, test_processed, preprocessor.get_y_avg())\n",
    "            cv_err.append(l2_loss(test, test_preds))\n",
    "            \n",
    "        # keep track of average cross validation error for 5 folds\n",
    "        cvs[lamb].append(np.mean(cv_err))"
   ]
  },
  {
   "cell_type": "code",
   "execution_count": 5,
   "metadata": {},
   "outputs": [
    {
     "data": {
      "image/png": "[encoded data removed]",
      "text/plain": [
       "<Figure size 1080x720 with 1 Axes>"
      ]
     },
     "metadata": {
      "needs_background": "light"
     },
     "output_type": "display_data"
    }
   ],
   "source": [
    "means = []\n",
    "ses = []\n",
    "\n",
    "for key in cvs:\n",
    "    mean, se = mean_and_se(cvs[key])\n",
    "    means.append(mean)\n",
    "    ses.append(se)\n",
    "\n",
    "plt.rcParams['figure.figsize'] = [15, 10]\n",
    "plt.xlabel('$\\lambda$', fontsize=18)\n",
    "plt.ylabel('Mean Cross Validation Errors', fontsize=12)\n",
    "plt.title('Mean Cross Validation Estimates with Standard Errors vs $\\lambda$', fontsize=15)\n",
    "plt.errorbar(np.linspace(0, 1, 101, endpoint=True), means, ses, linestyle='None', marker='o')\n",
    "plt.show()"
   ]
  },
  {
   "cell_type": "code",
   "execution_count": 6,
   "metadata": {},
   "outputs": [
    {
     "data": {
      "text/plain": [
       "0.03"
      ]
     },
     "execution_count": 6,
     "metadata": {},
     "output_type": "execute_result"
    }
   ],
   "source": [
    "lamb_min_index = np.argmin(means)\n",
    "lamb_min = lamb_min_index * .01\n",
    "lamb_min"
   ]
  },
  {
   "cell_type": "code",
   "execution_count": 7,
   "metadata": {},
   "outputs": [
    {
     "data": {
      "text/plain": [
       "0.13"
      ]
     },
     "execution_count": 7,
     "metadata": {},
     "output_type": "execute_result"
    }
   ],
   "source": [
    "lamb_best = None\n",
    "\n",
    "for i in range(len(means)-1, -1, -1):\n",
    "    if means[i] < means[lamb_min_index] + ses[lamb_min_index]:\n",
    "        lamb_best_index = i\n",
    "        lamb_best = i * .01\n",
    "        break\n",
    "        \n",
    "lamb_best"
   ]
  },
  {
   "cell_type": "code",
   "execution_count": 8,
   "metadata": {},
   "outputs": [],
   "source": [
    "data = np.genfromtxt('prostate_cancer.csv', delimiter=',', skip_header=1)[:,:-1]\n",
    "preprocessor = LassoPreprocessor(data)\n",
    "data = preprocessor.preprocess(data)"
   ]
  },
  {
   "cell_type": "code",
   "execution_count": 9,
   "metadata": {},
   "outputs": [],
   "source": [
    "betas = []\n",
    "\n",
    "for lamb in np.linspace(0, 1, 101, endpoint=True):\n",
    "    clf = Lasso(alpha=lamb, fit_intercept=False, normalize=False, max_iter=10000)\n",
    "    clf.fit(data[:,:-1], data[:,-1])\n",
    "    betas.append(clf.coef_)\n"
   ]
  },
  {
   "cell_type": "code",
   "execution_count": 12,
   "metadata": {},
   "outputs": [
    {
     "data": {
      "image/png": "[encoded data removed]",
      "text/plain": [
       "<Figure size 1080x720 with 1 Axes>"
      ]
     },
     "metadata": {
      "needs_background": "light"
     },
     "output_type": "display_data"
    }
   ],
   "source": [
    "labels = [\"lcavol\", \"lweight\", \"age\", \"lbph\", \"svi\", \"lcp\", \"gleason\", \"pgg45\"]\n",
    "plt.rcParams['figure.figsize'] = [15, 10]\n",
    "for i in range(len(labels)):\n",
    "    plt.scatter(np.linspace(0, 1, 101, endpoint=True), np.array(betas)[:,i], label=labels[i])\n",
    "\n",
    "plt.axhline(y=0, color='k')\n",
    "plt.axvline(lamb_best, label='Estimates for $\\lambda^*$')\n",
    "plt.legend()\n",
    "plt.xlabel('$\\lambda$', fontsize=18)\n",
    "plt.ylabel('Lasso Estimates for Predictor', fontsize=12)\n",
    "plt.title(r'Lasso Estimates for $\\hat{\\beta_\\lambda^R}$ vs Lambda', fontsize=15)\n",
    "plt.show()"
   ]
  },
  {
   "cell_type": "code",
   "execution_count": 11,
   "metadata": {},
   "outputs": [
    {
     "data": {
      "text/plain": [
       "(array([ 0.56082709,  0.18144093, -0.        ,  0.        ,  0.18858446,\n",
       "         0.        ,  0.        ,  0.00714978]),\n",
       " 2.478386878350515)"
      ]
     },
     "execution_count": 11,
     "metadata": {},
     "output_type": "execute_result"
    }
   ],
   "source": [
    "betas[lamb_best_index], preprocessor.get_y_avg()"
   ]
  },
  {
   "cell_type": "markdown",
   "metadata": {},
   "source": [
    "The best final model is $f(X) = \\bar{y} + \\sum_{i=1}^p \\hat{\\beta_{i, \\lambda^*}^R}X_i$ where $\\hat{\\beta_{i, \\lambda^*}^R}$ = [ 0.56082709,  0.18144093, 0.        ,  0.        ,  0.18858446, 0.        ,  0.        ,  0.00714978] and $\\bar{y}$ = 2.478"
   ]
  }
 ],
 "metadata": {
  "kernelspec": {
   "display_name": "Python 3",
   "language": "python",
   "name": "python3"
  },
  "language_info": {
   "codemirror_mode": {
    "name": "ipython",
    "version": 3
   },
   "file_extension": ".py",
   "mimetype": "text/x-python",
   "name": "python",
   "nbconvert_exporter": "python",
   "pygments_lexer": "ipython3",
   "version": "3.7.6"
  }
 },
 "nbformat": 4,
 "nbformat_minor": 2
}
