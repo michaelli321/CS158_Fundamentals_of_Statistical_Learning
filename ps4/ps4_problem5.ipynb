{
 "cells": [
  {
   "cell_type": "markdown",
   "metadata": {},
   "source": [
    "## IDS/ACM/CS 158: Fundamentals of Statistical Learning\n",
    "### PS4, Problem 5: Linear and Quadratic Discriminant Analysis\n",
    "> Name: Li, Michael\n",
    " \n",
    "> Email address: mlli@caltech.edu\n",
    "\n",
    "Notes:\n",
    "Please use python 3.6\n",
    "\n",
    "You are required to properly comment and organize your code."
   ]
  },
  {
   "cell_type": "markdown",
   "metadata": {},
   "source": [
    "* Helper functions (add/remove part label according to the specific question requirements)"
   ]
  },
  {
   "cell_type": "code",
   "execution_count": 1,
   "metadata": {},
   "outputs": [],
   "source": [
    "import numpy as np\n",
    "import matplotlib.pyplot as plt\n",
    "\n",
    "def lda(data):\n",
    "    \"\"\"\n",
    "    data - a matrix where each row corresponds to the \n",
    "           p predictors in the first p columns and\n",
    "           the observed output y in the final column\n",
    "    \n",
    "    returns the coefficients for the lda functions\n",
    "    \"\"\"\n",
    "    g1 = np.array([observation[:-1] for observation in data if observation[-1] == 1])\n",
    "    g0 = np.array([observation[:-1] for observation in data if observation[-1] == 0])\n",
    "    \n",
    "    # calculate pi, mu, and pooled variance for each class\n",
    "    pi1 = len(g1) / len(data)\n",
    "    pi0 = len(g0) / len(data)\n",
    "    \n",
    "    mu1 = np.mean(g1, axis=0)\n",
    "    mu0 = np.mean(g0, axis=0)\n",
    "    \n",
    "    pooled_var = (1 / (len(data) - 2)) * (np.matmul((g1-mu1).transpose(), g1-mu1) + np.matmul((g0-mu0).transpose(), g0-mu0))\n",
    "    \n",
    "    # get coefficients for each delta function for LDA\n",
    "    delta_0_term_1 = np.matmul(mu0.transpose(), np.linalg.inv(pooled_var))\n",
    "    delta_0_term_2 = (1/2) * np.matmul(np.matmul(mu0.transpose(), np.linalg.inv(pooled_var)), mu0)\n",
    "    delta_0_term_3 = np.log(pi0)\n",
    "    \n",
    "    delta_1_term_1 = np.matmul(mu1.transpose(), np.linalg.inv(pooled_var))\n",
    "    delta_1_term_2 = (1/2) * np.matmul(np.matmul(mu1.transpose(), np.linalg.inv(pooled_var)), mu1)\n",
    "    delta_1_term_3 = np.log(pi1)\n",
    "    \n",
    "    return (delta_0_term_1, delta_0_term_2, delta_0_term_3), (delta_1_term_1, delta_1_term_2, delta_1_term_3)\n",
    "\n",
    "def qda(data):\n",
    "    \"\"\"\n",
    "    data - a matrix where each row corresponds to the \n",
    "           p predictors in the first p columns and\n",
    "           the observed output y in the final column\n",
    "    \n",
    "    returns the coefficients for the qda functions\n",
    "    \"\"\"\n",
    "    g1 = np.array([observation[:-1] for observation in data if observation[-1] == 1])\n",
    "    g0 = np.array([observation[:-1] for observation in data if observation[-1] == 0])\n",
    "    \n",
    "    # calculate pi, mu, and variance for each class\n",
    "    pi1 = len(g1) / len(data)\n",
    "    pi0 = len(g0) / len(data)\n",
    "    \n",
    "    mu1 = np.mean(g1, axis=0)\n",
    "    mu0 = np.mean(g0, axis=0)\n",
    "    \n",
    "    var1 = (1 / (len(g1)-1)) * (np.matmul((g1-mu1).transpose(), g1-mu1))\n",
    "    var0 = (1 / (len(g0)-1)) * (np.matmul((g0-mu0).transpose(), g0-mu0))\n",
    "    \n",
    "    # get coefficients for each delta function for QDA\n",
    "    delta_0_term_2 = -1/2 * np.log(np.linalg.det(var0))\n",
    "    delta_0_term_3 = np.log(pi0)\n",
    "    \n",
    "    delta_1_term_2 = -1/2 * np.log(np.linalg.det(var1))\n",
    "    delta_1_term_3 = np.log(pi1)\n",
    "    \n",
    "    return (mu0, np.linalg.inv(var0), delta_0_term_2+delta_0_term_3), (mu1, np.linalg.inv(var1), delta_1_term_2+delta_1_term_3)\n",
    "\n",
    "\n",
    "def find_linear_boundary(delta_0, delta_1):\n",
    "    \"\"\"\n",
    "    delta_0 - the coefficients for delta_0 LDA function\n",
    "    delta_1 - the coefficients for delta_1 LDA function\n",
    "    \n",
    "    returns the slope and bias for the linear boundary between the two classes\n",
    "    \"\"\"\n",
    "    delta_0_term_1, delta_0_term_2, delta_0_term_3 = delta_0\n",
    "    delta_1_term_1, delta_1_term_2, delta_1_term_3 = delta_1\n",
    "    \n",
    "    bias = -delta_1_term_2+delta_1_term_3+delta_0_term_2-delta_0_term_3\n",
    "    mat = delta_0_term_1 - delta_1_term_1\n",
    "    \n",
    "    return -mat[0]/mat[1], bias/mat[1]\n",
    "\n",
    "def find_quad_boundary(data, delta_0, delta_1):\n",
    "    \"\"\"\n",
    "    data - a matrix where each row corresponds to the \n",
    "           p predictors in the first p columns and\n",
    "           the observed output y in the final column\n",
    "    delta_0 - the coefficients for delta_0 QDA function\n",
    "    delta_1 - the coefficients for delta_1 QDA function\n",
    "    \n",
    "    returns the points that make up the boundary for the classes using QDA\n",
    "    \"\"\"\n",
    "    mu0, inverse_var0, bias0 = delta_0\n",
    "    mu1, inverse_var1, bias1 = delta_1\n",
    "    \n",
    "    # define grid\n",
    "    x0s = np.arange(min(data[:,0]), max(data[:,0]), .01)\n",
    "    x1s = np.arange(min(data[:,1]), max(data[:,1]), .01)\n",
    "    \n",
    "    tol = .01\n",
    "    xs = []\n",
    "    ys = []\n",
    "    \n",
    "    # check each point in grid and see if delta functions are close enough\n",
    "    for x0 in x0s:\n",
    "        for x1 in x1s:\n",
    "            x = np.array([x0, x1])\n",
    "            \n",
    "            delta_0_term_1 = -1/2 * np.matmul(np.matmul((x-mu0).transpose(), inverse_var0), x-mu0)\n",
    "            delta_1_term_1 = -1/2 * np.matmul(np.matmul((x-mu1).transpose(), inverse_var1), x-mu1)\n",
    "            \n",
    "            delta_0 = delta_0_term_1 + bias0\n",
    "            delta_1 = delta_1_term_1 + bias1\n",
    "            \n",
    "            # if so we add those points to our list of points for the boundary\n",
    "            if np.abs(delta_0 - delta_1) < tol:\n",
    "                xs.append(x0)\n",
    "                ys.append(x1)\n",
    "    \n",
    "    return xs, ys\n",
    "\n",
    "def lda_predict(delta_0, delta_1, x, alpha=1/2):\n",
    "    \"\"\"\n",
    "    delta_0 - the coefficients for delta_0 LDA function\n",
    "    delta_1 - the coefficients for delta_1 LDA function\n",
    "    alpha - classification threshold\n",
    "    \n",
    "    returns the prediction using LDA functions\n",
    "    \"\"\"\n",
    "    delta_0_term_1, delta_0_term_2, delta_0_term_3 = delta_0\n",
    "    delta_1_term_1, delta_1_term_2, delta_1_term_3 = delta_1\n",
    "    \n",
    "    delta_0 = np.matmul(delta_0_term_1, x) - delta_0_term_2 + delta_0_term_3\n",
    "    delta_1 = np.matmul(delta_1_term_1, x) - delta_1_term_2 + delta_1_term_3\n",
    "    \n",
    "    if alpha == 0:\n",
    "        return 0\n",
    "    elif alpha == 1:\n",
    "        return 1\n",
    "    else:\n",
    "        # classification rule derived in part c \n",
    "        return 0 if delta_0 > delta_1 + np.log(alpha / (1-alpha)) else 1    \n",
    "\n",
    "def qda_predict(delta_0, delta_1, x, alpha=1/2):\n",
    "    \"\"\"\n",
    "    delta_0 - the coefficients for delta_0 QDA function\n",
    "    delta_1 - the coefficients for delta_1 QDA function\n",
    "    alpha - classification threshold\n",
    "    \n",
    "    returns the prediction using QDA functions\n",
    "    \"\"\"\n",
    "    mu0, inverse_var0, bias0 = delta_0\n",
    "    mu1, inverse_var1, bias1 = delta_1\n",
    "    \n",
    "    delta_0_term_1 = -1/2 * np.matmul(np.matmul((x-mu0).transpose(), inverse_var0), x-mu0)\n",
    "    delta_1_term_1 = -1/2 * np.matmul(np.matmul((x-mu1).transpose(), inverse_var1), x-mu1)\n",
    "\n",
    "    delta_0 = delta_0_term_1 + bias0\n",
    "    delta_1 = delta_1_term_1 + bias1\n",
    "    \n",
    "    if alpha == 0:\n",
    "        return 0\n",
    "    elif alpha == 1:\n",
    "        return 1\n",
    "    else:\n",
    "        # classification rule derived in part c\n",
    "        return 0 if delta_0 > delta_1 + np.log(alpha / (1-alpha)) else 1\n",
    "\n",
    "def class_errors(real, preds):\n",
    "    \"\"\"\n",
    "    real - list of real classes for each observation\n",
    "    preds - list of predicted classes for each observation\n",
    "    \n",
    "    returns test errors on g_0 and g_1\n",
    "    \"\"\"\n",
    "    n_10 = 0\n",
    "    n_11 = 0\n",
    "    n_00 = 0\n",
    "    n_01 = 0\n",
    "\n",
    "    for i in range(len(preds)):\n",
    "        if real[i] == 1:\n",
    "            if preds[i] == 1:\n",
    "                n_11 += 1\n",
    "            else:\n",
    "                n_01 += 1\n",
    "        else:\n",
    "            if preds[i] == 1:\n",
    "                n_10 += 1\n",
    "            else:\n",
    "                n_00 += 1\n",
    "                \n",
    "    return n_10 / (n_00 + n_10), n_01 / (n_11 + n_01)\n",
    "    "
   ]
  },
  {
   "cell_type": "markdown",
   "metadata": {},
   "source": [
    "* <b>Part A</b>"
   ]
  },
  {
   "cell_type": "code",
   "execution_count": 2,
   "metadata": {},
   "outputs": [
    {
     "data": {
      "image/png": "[encoded data removed]",
      "text/plain": [
       "<Figure size 576x360 with 1 Axes>"
      ]
     },
     "metadata": {
      "needs_background": "light"
     },
     "output_type": "display_data"
    }
   ],
   "source": [
    "train_data = np.genfromtxt('dataset6_train.csv', delimiter=',', skip_header=1)\n",
    "test_data = np.genfromtxt('dataset6_test.csv', delimiter=',', skip_header=1)\n",
    "\n",
    "# find the lda coefficients and decision boundary\n",
    "lda_delta_0, lda_delta_1 = lda(train_data)\n",
    "coeffs = find_linear_boundary(lda_delta_0, lda_delta_1)\n",
    "lda_boundary_x = np.arange(min(train_data[:,0]), max(train_data[:,0]), .1)\n",
    "lda_boundary_y = [coeffs[0]*i+coeffs[1] for i in lda_boundary_x]\n",
    "\n",
    "# find the qda coefficients and decision boundary\n",
    "qda_delta_0, qda_delta_1 = qda(train_data)\n",
    "qda_boundary_x, qda_boundary_y = find_quad_boundary(train_data, qda_delta_0, qda_delta_1)\n",
    "\n",
    "# get the points of the training data\n",
    "train_1s = np.array([data[:-1] for data in train_data if data[-1] == 1])\n",
    "train_0s = np.array([data[:-1] for data in train_data if data[-1] == 0])\n",
    "\n",
    "plt.rcParams['figure.figsize'] = [8, 5]\n",
    "plt.title('LDA and QDA Decision Boundaries for Dataset 6 Train Data')\n",
    "plt.xlabel('$x_0$')\n",
    "plt.ylabel('$x_1$')\n",
    "plt.scatter(train_0s[:,0], train_0s[:,1], c='red', label='Class 0')\n",
    "plt.scatter(train_1s[:,0], train_1s[:,1], c='blue', label='Class 1')\n",
    "plt.plot(qda_boundary_x, qda_boundary_y, linewidth='4', c='green', label='QDA Decision Boundary')\n",
    "plt.plot(lda_boundary_x, lda_boundary_y, linewidth='4', c='yellow', label='LDA Decision Boundary')\n",
    "plt.legend()\n",
    "plt.show()"
   ]
  },
  {
   "cell_type": "markdown",
   "metadata": {},
   "source": [
    "* <b>Part B</b>"
   ]
  },
  {
   "cell_type": "code",
   "execution_count": 3,
   "metadata": {},
   "outputs": [
    {
     "data": {
      "text/plain": [
       "(0.127, 0.059)"
      ]
     },
     "execution_count": 3,
     "metadata": {},
     "output_type": "execute_result"
    }
   ],
   "source": [
    "# make predictions with the two models and check errors\n",
    "lda_test_preds = [lda_predict(lda_delta_0, lda_delta_1, x) for x in test_data[:,:-1]]\n",
    "qda_test_preds = [qda_predict(qda_delta_0, qda_delta_1, x) for x in test_data[:,:-1]]\n",
    "\n",
    "lda_average_err = sum(lda_test_preds != test_data[:,-1]) / len(lda_test_preds)\n",
    "qda_average_err = sum(qda_test_preds != test_data[:,-1]) / len(qda_test_preds)\n",
    "lda_average_err, qda_average_err"
   ]
  },
  {
   "cell_type": "markdown",
   "metadata": {},
   "source": [
    "We see here from the errors that Quadratic Discriminant Analysis is more eficient on this particular dataset."
   ]
  },
  {
   "cell_type": "markdown",
   "metadata": {},
   "source": [
    "* <b>Part C</b>"
   ]
  },
  {
   "cell_type": "markdown",
   "metadata": {},
   "source": [
    "$$ P(G = G_0| X =x) > \\alpha \\implies P(G = G_0 | X =x) = \\alpha \\text{ and } P(G = G_0 | X =x) = 1 - \\alpha$$ \\\n",
    "$$ P(G = G_0 | X =x) = \\frac{\\alpha}{1-\\alpha} P(G = G_1 | X =x)$$ \\\n",
    "$$ \\text{log}(P(G = G_0 | X =x)) = \\text{log}(\\frac{\\alpha}{1-\\alpha} P(G = G_1 | X =x))$$ \\\n",
    "$$ \\text{log}(\\pi_0 f_0(x)) - \\text{log}(\\sum_{s=1}^k \\pi_sf_s(x)) = \\text{log}(\\frac{\\alpha}{1-\\alpha}) + \\text{log}(\\pi_1 f_1(x)) - \\text{log}(\\sum_{s=1}^k \\pi_sf_s(x))$$ \n",
    "$$ \\text{log}(\\pi_0) + \\text{log}(\\frac{1}{(2\\pi)^{p/2}|\\Sigma|^\\frac{1}{2}}) + \\text{log}(\\text{exp}[\\frac{-1}{2}(x-\\mu_0)^T\\Sigma^{-1}(x-\\mu_0)]) = \\text{log}(\\frac{\\alpha}{1-\\alpha}) + \\text{log}(\\pi_1) + \\text{log}(\\frac{1}{(2\\pi)^{p/2}|\\Sigma|^\\frac{1}{2}}) + \\text{log}(\\text{exp}[\\frac{-1}{2}(x-\\mu_1)^T\\Sigma^{-1}(x-\\mu_1)])$$\n",
    "$$ \\text{log}(\\pi_0) + \\text{log}(\\text{exp}[\\frac{-1}{2}(x-\\mu_0)^T\\Sigma^{-1}(x-\\mu_0)]) = \\text{log}(\\frac{\\alpha}{1-\\alpha}) + \\text{log}(\\pi_1) + \\text{log}(\\text{exp}[\\frac{-1}{2}(x-\\mu_1)^T\\Sigma^{-1}(x-\\mu_1)])$$\n",
    "\n",
    "\n",
    "From lecture 12 page 69, we know that we are able to derive $\\delta_0(x)$ and $\\delta_1(x)$ from here which gives us our definition of each delta so we can substitute that in here. By symmetry, we can say the same rule applies for QDA. Thus, our new decision boundary is found by this\n",
    "\n",
    "$$ \\delta_0(x) = \\delta_1(x) + \\text{log}(\\frac{\\alpha}{1-\\alpha})$$\n",
    "\n",
    "So this gives us our new decision boundary and our new classification rule becomes \n",
    "$$ \\delta_0(x) > \\delta_1(x) + \\text{log}(\\frac{\\alpha}{1-\\alpha}) $$ \n",
    "if this is true then x is class $G_0$ otherwise it is $G_1$"
   ]
  },
  {
   "cell_type": "code",
   "execution_count": 4,
   "metadata": {},
   "outputs": [],
   "source": [
    "alphas = np.arange(0, 1.01, .01)\n",
    "lda_err_0s = []\n",
    "lda_one_minus_err_1s = []\n",
    "\n",
    "qda_err_0s = []\n",
    "qda_one_minus_err_1s = []\n",
    "\n",
    "# for all the classification thresholds\n",
    "for a in alphas:\n",
    "    # make our predictions and find the class errors and add to our list of points to plot\n",
    "    lda_test_preds = [lda_predict(lda_delta_0, lda_delta_1, x, a) for x in test_data[:,:-1]]\n",
    "    qda_test_preds = [qda_predict(qda_delta_0, qda_delta_1, x, a) for x in test_data[:,:-1]]\n",
    "    \n",
    "    lda_errs = class_errors(test_data[:,-1], lda_test_preds)\n",
    "    qda_errs = class_errors(test_data[:,-1], qda_test_preds)\n",
    "    \n",
    "    lda_err_0s.append(lda_errs[0])\n",
    "    lda_one_minus_err_1s.append(1-lda_errs[1])\n",
    "    \n",
    "    qda_err_0s.append(qda_errs[0])\n",
    "    qda_one_minus_err_1s.append(1-qda_errs[1])\n",
    "    "
   ]
  },
  {
   "cell_type": "code",
   "execution_count": 5,
   "metadata": {},
   "outputs": [
    {
     "data": {
      "image/png": "[encoded data removed]",
      "text/plain": [
       "<Figure size 576x360 with 1 Axes>"
      ]
     },
     "metadata": {
      "needs_background": "light"
     },
     "output_type": "display_data"
    }
   ],
   "source": [
    "plt.plot(lda_err_0s, lda_one_minus_err_1s, label='LDA')\n",
    "plt.plot(qda_err_0s, qda_one_minus_err_1s, label='QDA')\n",
    "plt.xlim(0, 1)\n",
    "plt.ylim(0, 1)\n",
    "plt.title('ROC Curve for QDA and LDA')\n",
    "plt.xlabel('Test Error on $g_0$')\n",
    "plt.ylabel('1 - Test Error on $g_1$')\n",
    "plt.legend()\n",
    "plt.show()"
   ]
  },
  {
   "cell_type": "markdown",
   "metadata": {},
   "source": [
    "QDA is still more efficient based on the ROC curves."
   ]
  }
 ],
 "metadata": {
  "kernelspec": {
   "display_name": "Python 3",
   "language": "python",
   "name": "python3"
  },
  "language_info": {
   "codemirror_mode": {
    "name": "ipython",
    "version": 3
   },
   "file_extension": ".py",
   "mimetype": "text/x-python",
   "name": "python",
   "nbconvert_exporter": "python",
   "pygments_lexer": "ipython3",
   "version": "3.7.6"
  }
 },
 "nbformat": 4,
 "nbformat_minor": 2
}
